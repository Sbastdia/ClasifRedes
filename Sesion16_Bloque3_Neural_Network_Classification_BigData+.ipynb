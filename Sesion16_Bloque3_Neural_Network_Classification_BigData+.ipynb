{
 "cells": [
  {
   "cell_type": "code",
   "execution_count": 1,
   "id": "f1412cbd",
   "metadata": {
    "id": "496631ea"
   },
   "outputs": [],
   "source": [
    "# Módulo 1: Análisis de datos en el ecosistema Python"
   ]
  },
  {
   "cell_type": "markdown",
   "id": "3a14cd3f",
   "metadata": {
    "id": "3a14cd3f"
   },
   "source": [
    "### Sesión (16)"
   ]
  },
  {
   "cell_type": "markdown",
   "id": "6acd93e7",
   "metadata": {
    "id": "6acd93e7"
   },
   "source": [
    "**16/01/2023**"
   ]
  },
  {
   "cell_type": "markdown",
   "id": "fbaae337",
   "metadata": {
    "id": "fbaae337"
   },
   "source": [
    "## Clasificación con Redes Neuronales (Neural Network Clasification) "
   ]
  },
  {
   "cell_type": "markdown",
   "id": "fff3add6",
   "metadata": {
    "id": "fff3add6"
   },
   "source": [
    "Las redes neuronales artificiales están basadas en el funcionamiento de las redes de neuronas biológicas. Podemos aplicar estas estructuras para crear **un modelo de clasificación basado en el funcionamiento de las redes neuronales artificiales**."
   ]
  },
  {
   "cell_type": "markdown",
   "id": "7fbcc270",
   "metadata": {
    "id": "7fbcc270"
   },
   "source": [
    "### Procesado de información de una neurona artificial\n",
    "Aquí se representa **el procesado de los datos al atravesar una neurona** dentro de la estructura de una red neuronal artificial:\n",
    "\n",
    "![image-3.png](attachment:image-3.png)"
   ]
  },
  {
   "cell_type": "markdown",
   "id": "KRsuqiyJnj9a",
   "metadata": {
    "id": "KRsuqiyJnj9a"
   },
   "source": [
    "### Valores de salida y pesos de las redes neuronales\n",
    "\n",
    "Las respuestas calculadas por las redes o los valores de salida pueden ser:\n",
    "* **continuos**, como el precio de una compra determinada o una vivienda! \n",
    "* **categóricos**, como el producto que más se venderá el próximo año o la especie de una flor!.\n",
    "* **binarios**, como por ejemplo si una persona padece de una enfermedad o no. (_el caso binario es un caso particular donde tenemos dos categorías_).\n",
    "\n",
    "Para poder llevar a cabo el procesado, cada conexión entre las neuronas llamada ***sinapsis*** tendrá asignada un valor o un **peso** que equivale a la **fuerza** de la señal que se trasmite a otras. El ajuste de estos pesos para tener una red neuronal que haga lo que queremos es fundamental. \n",
    "\n",
    "Existen **distintos métodos para ajustar estos pesos**, como **el descenso de gradiente (Gradient Descent)** y **el Backpropagation**. "
   ]
  },
  {
   "cell_type": "markdown",
   "id": "5c8c7407",
   "metadata": {
    "id": "5c8c7407"
   },
   "source": [
    "### Ejemplo de la calidad del aire"
   ]
  },
  {
   "cell_type": "markdown",
   "id": "8346210a",
   "metadata": {
    "id": "8346210a"
   },
   "source": [
    "En los últimos años, los **altos niveles de contaminación** durante ciertos periodos secos en **Madrid** ha obligado a las autoridades a tomar medidas contra el uso de automóviles en el centro de la ciudad, y ha sido utilizado como razón para **proponer modificaciones drásticas en el urbanismo de la ciudad**. \n",
    "\n",
    "Gracias a la **web de [Datos Abiertos del Ayuntamiento de Madrid](https://datos.madrid.es/portal/site/egob/menuitem.400a817358ce98c34e937436a8a409a0/?vgnextoid=eba412b9ace9f310VgnVCM100000171f5a0aRCRD&vgnextchannel=eba412b9ace9f310VgnVCM100000171f5a0aRCRD&vgnextfmt=default)**, los datos de calidad del aire están públicamente disponibles e incluyen **datos históricos diarios y horarios de los niveles registrados desde 2001 hasta 2018** y la lista de estaciones que se utilizan para el análisis de contaminación.\n",
    "\n",
    "Vamos a utilizar **una muestra** que se ha preparado en base a estos datos que muestran la **calidad del aire** en varias estaciones de **Madrid** según diferentes variables."
   ]
  },
  {
   "cell_type": "code",
   "execution_count": 2,
   "id": "1d4a1419",
   "metadata": {
    "id": "1d4a1419"
   },
   "outputs": [],
   "source": [
    "# importamos las librerías necesarias \n",
    "import pandas as pd\n",
    "import seaborn as sns\n",
    "import matplotlib.pyplot as plt\n",
    "import numpy as np\n",
    "%matplotlib inline"
   ]
  },
  {
   "cell_type": "code",
   "execution_count": 3,
   "id": "14d67e37",
   "metadata": {
    "id": "14d67e37"
   },
   "outputs": [],
   "source": [
    "# Modificamos los parámetros de los gráficos en matplotlib\n",
    "from matplotlib.pyplot import rcParams\n",
    "\n",
    "rcParams['figure.figsize'] = 12, 6 # el primer dígito es el ancho y el segundo el alto\n",
    "rcParams[\"font.weight\"] = \"bold\"\n",
    "rcParams[\"font.size\"] = 10\n",
    "rcParams[\"axes.labelweight\"] = \"bold\""
   ]
  },
  {
   "cell_type": "markdown",
   "id": "94808235",
   "metadata": {
    "id": "94808235"
   },
   "source": [
    "### Cargar los datos preparados y preprocesados para el modelo"
   ]
  },
  {
   "cell_type": "code",
   "execution_count": 4,
   "id": "c2d8161e",
   "metadata": {
    "id": "c2d8161e"
   },
   "outputs": [],
   "source": [
    "# Cargar el dataset desde un archivo\n",
    "\n",
    "df_aire_calidad = pd.read_csv('Calidad_aire_procesado.csv')"
   ]
  },
  {
   "cell_type": "code",
   "execution_count": 5,
   "id": "437f8cf7",
   "metadata": {
    "id": "437f8cf7",
    "outputId": "90714ec5-bcf0-44de-f877-e70a59c9fbd0"
   },
   "outputs": [
    {
     "data": {
      "text/html": [
       "<div>\n",
       "<style scoped>\n",
       "    .dataframe tbody tr th:only-of-type {\n",
       "        vertical-align: middle;\n",
       "    }\n",
       "\n",
       "    .dataframe tbody tr th {\n",
       "        vertical-align: top;\n",
       "    }\n",
       "\n",
       "    .dataframe thead th {\n",
       "        text-align: right;\n",
       "    }\n",
       "</style>\n",
       "<table border=\"1\" class=\"dataframe\">\n",
       "  <thead>\n",
       "    <tr style=\"text-align: right;\">\n",
       "      <th></th>\n",
       "      <th>ALTITUD</th>\n",
       "      <th>Distancia_Pto_trafico1</th>\n",
       "      <th>Intensidad_Pto_trafico1</th>\n",
       "      <th>Intensidad_Pto_trafico2</th>\n",
       "      <th>Intensidad_Pto_trafico3</th>\n",
       "      <th>Intensidad_Pto_trafico4</th>\n",
       "      <th>Intensidad_Pto_trafico5</th>\n",
       "      <th>Carga_Pto_trafico4</th>\n",
       "      <th>Carga_Pto_trafico3</th>\n",
       "      <th>Intensidad_mediaR1_500</th>\n",
       "      <th>...</th>\n",
       "      <th>feelslike_c</th>\n",
       "      <th>windchill_c</th>\n",
       "      <th>heatindex_c</th>\n",
       "      <th>dewpoint_c</th>\n",
       "      <th>mes</th>\n",
       "      <th>dia</th>\n",
       "      <th>hora</th>\n",
       "      <th>diasemana</th>\n",
       "      <th>Dir_viento_etiquetado</th>\n",
       "      <th>Escenario</th>\n",
       "    </tr>\n",
       "  </thead>\n",
       "  <tbody>\n",
       "    <tr>\n",
       "      <th>0</th>\n",
       "      <td>635</td>\n",
       "      <td>60.589582</td>\n",
       "      <td>154.00</td>\n",
       "      <td>697.00</td>\n",
       "      <td>259.00</td>\n",
       "      <td>847.00</td>\n",
       "      <td>845.00</td>\n",
       "      <td>46.00</td>\n",
       "      <td>6.00</td>\n",
       "      <td>493.727273</td>\n",
       "      <td>...</td>\n",
       "      <td>21.0</td>\n",
       "      <td>21.0</td>\n",
       "      <td>21.0</td>\n",
       "      <td>10.9</td>\n",
       "      <td>10</td>\n",
       "      <td>1</td>\n",
       "      <td>0</td>\n",
       "      <td>1</td>\n",
       "      <td>1</td>\n",
       "      <td>1</td>\n",
       "    </tr>\n",
       "    <tr>\n",
       "      <th>1</th>\n",
       "      <td>635</td>\n",
       "      <td>60.589582</td>\n",
       "      <td>159.00</td>\n",
       "      <td>753.00</td>\n",
       "      <td>282.00</td>\n",
       "      <td>854.00</td>\n",
       "      <td>929.00</td>\n",
       "      <td>48.00</td>\n",
       "      <td>8.00</td>\n",
       "      <td>500.659091</td>\n",
       "      <td>...</td>\n",
       "      <td>20.6</td>\n",
       "      <td>20.6</td>\n",
       "      <td>20.6</td>\n",
       "      <td>11.1</td>\n",
       "      <td>10</td>\n",
       "      <td>1</td>\n",
       "      <td>1</td>\n",
       "      <td>1</td>\n",
       "      <td>1</td>\n",
       "      <td>1</td>\n",
       "    </tr>\n",
       "    <tr>\n",
       "      <th>2</th>\n",
       "      <td>635</td>\n",
       "      <td>60.589582</td>\n",
       "      <td>111.00</td>\n",
       "      <td>851.00</td>\n",
       "      <td>235.00</td>\n",
       "      <td>678.00</td>\n",
       "      <td>1056.00</td>\n",
       "      <td>41.00</td>\n",
       "      <td>5.00</td>\n",
       "      <td>458.159091</td>\n",
       "      <td>...</td>\n",
       "      <td>20.1</td>\n",
       "      <td>20.1</td>\n",
       "      <td>20.1</td>\n",
       "      <td>11.2</td>\n",
       "      <td>10</td>\n",
       "      <td>1</td>\n",
       "      <td>2</td>\n",
       "      <td>1</td>\n",
       "      <td>1</td>\n",
       "      <td>1</td>\n",
       "    </tr>\n",
       "    <tr>\n",
       "      <th>3</th>\n",
       "      <td>635</td>\n",
       "      <td>60.589582</td>\n",
       "      <td>70.00</td>\n",
       "      <td>557.00</td>\n",
       "      <td>150.00</td>\n",
       "      <td>511.00</td>\n",
       "      <td>719.00</td>\n",
       "      <td>33.00</td>\n",
       "      <td>4.00</td>\n",
       "      <td>338.454545</td>\n",
       "      <td>...</td>\n",
       "      <td>19.7</td>\n",
       "      <td>19.7</td>\n",
       "      <td>19.7</td>\n",
       "      <td>11.4</td>\n",
       "      <td>10</td>\n",
       "      <td>1</td>\n",
       "      <td>3</td>\n",
       "      <td>1</td>\n",
       "      <td>1</td>\n",
       "      <td>0</td>\n",
       "    </tr>\n",
       "    <tr>\n",
       "      <th>4</th>\n",
       "      <td>635</td>\n",
       "      <td>60.589582</td>\n",
       "      <td>66.00</td>\n",
       "      <td>532.00</td>\n",
       "      <td>167.00</td>\n",
       "      <td>439.00</td>\n",
       "      <td>632.00</td>\n",
       "      <td>25.00</td>\n",
       "      <td>5.00</td>\n",
       "      <td>282.681818</td>\n",
       "      <td>...</td>\n",
       "      <td>19.5</td>\n",
       "      <td>19.5</td>\n",
       "      <td>19.5</td>\n",
       "      <td>11.2</td>\n",
       "      <td>10</td>\n",
       "      <td>1</td>\n",
       "      <td>4</td>\n",
       "      <td>1</td>\n",
       "      <td>1</td>\n",
       "      <td>0</td>\n",
       "    </tr>\n",
       "    <tr>\n",
       "      <th>...</th>\n",
       "      <td>...</td>\n",
       "      <td>...</td>\n",
       "      <td>...</td>\n",
       "      <td>...</td>\n",
       "      <td>...</td>\n",
       "      <td>...</td>\n",
       "      <td>...</td>\n",
       "      <td>...</td>\n",
       "      <td>...</td>\n",
       "      <td>...</td>\n",
       "      <td>...</td>\n",
       "      <td>...</td>\n",
       "      <td>...</td>\n",
       "      <td>...</td>\n",
       "      <td>...</td>\n",
       "      <td>...</td>\n",
       "      <td>...</td>\n",
       "      <td>...</td>\n",
       "      <td>...</td>\n",
       "      <td>...</td>\n",
       "      <td>...</td>\n",
       "    </tr>\n",
       "    <tr>\n",
       "      <th>49249</th>\n",
       "      <td>599</td>\n",
       "      <td>323.225854</td>\n",
       "      <td>521.75</td>\n",
       "      <td>882.50</td>\n",
       "      <td>1427.00</td>\n",
       "      <td>113.75</td>\n",
       "      <td>1166.50</td>\n",
       "      <td>14.25</td>\n",
       "      <td>45.50</td>\n",
       "      <td>601.100000</td>\n",
       "      <td>...</td>\n",
       "      <td>11.0</td>\n",
       "      <td>11.0</td>\n",
       "      <td>12.1</td>\n",
       "      <td>-7.0</td>\n",
       "      <td>2</td>\n",
       "      <td>22</td>\n",
       "      <td>16</td>\n",
       "      <td>5</td>\n",
       "      <td>1</td>\n",
       "      <td>1</td>\n",
       "    </tr>\n",
       "    <tr>\n",
       "      <th>49250</th>\n",
       "      <td>599</td>\n",
       "      <td>323.225854</td>\n",
       "      <td>497.00</td>\n",
       "      <td>1001.75</td>\n",
       "      <td>1413.75</td>\n",
       "      <td>135.00</td>\n",
       "      <td>1144.25</td>\n",
       "      <td>18.25</td>\n",
       "      <td>45.75</td>\n",
       "      <td>641.575000</td>\n",
       "      <td>...</td>\n",
       "      <td>9.4</td>\n",
       "      <td>9.4</td>\n",
       "      <td>11.0</td>\n",
       "      <td>-6.6</td>\n",
       "      <td>2</td>\n",
       "      <td>22</td>\n",
       "      <td>17</td>\n",
       "      <td>5</td>\n",
       "      <td>1</td>\n",
       "      <td>1</td>\n",
       "    </tr>\n",
       "    <tr>\n",
       "      <th>49251</th>\n",
       "      <td>599</td>\n",
       "      <td>323.225854</td>\n",
       "      <td>559.75</td>\n",
       "      <td>1085.75</td>\n",
       "      <td>1487.50</td>\n",
       "      <td>138.25</td>\n",
       "      <td>1206.25</td>\n",
       "      <td>20.00</td>\n",
       "      <td>48.25</td>\n",
       "      <td>699.375000</td>\n",
       "      <td>...</td>\n",
       "      <td>7.7</td>\n",
       "      <td>7.7</td>\n",
       "      <td>9.8</td>\n",
       "      <td>-6.2</td>\n",
       "      <td>2</td>\n",
       "      <td>22</td>\n",
       "      <td>18</td>\n",
       "      <td>5</td>\n",
       "      <td>1</td>\n",
       "      <td>1</td>\n",
       "    </tr>\n",
       "    <tr>\n",
       "      <th>49252</th>\n",
       "      <td>599</td>\n",
       "      <td>323.225854</td>\n",
       "      <td>518.50</td>\n",
       "      <td>1024.75</td>\n",
       "      <td>1535.75</td>\n",
       "      <td>139.00</td>\n",
       "      <td>1224.25</td>\n",
       "      <td>19.25</td>\n",
       "      <td>49.75</td>\n",
       "      <td>673.100000</td>\n",
       "      <td>...</td>\n",
       "      <td>6.6</td>\n",
       "      <td>6.6</td>\n",
       "      <td>8.8</td>\n",
       "      <td>-5.9</td>\n",
       "      <td>2</td>\n",
       "      <td>22</td>\n",
       "      <td>19</td>\n",
       "      <td>5</td>\n",
       "      <td>3</td>\n",
       "      <td>1</td>\n",
       "    </tr>\n",
       "    <tr>\n",
       "      <th>49253</th>\n",
       "      <td>599</td>\n",
       "      <td>323.225854</td>\n",
       "      <td>472.25</td>\n",
       "      <td>919.75</td>\n",
       "      <td>1276.75</td>\n",
       "      <td>122.75</td>\n",
       "      <td>1048.75</td>\n",
       "      <td>16.50</td>\n",
       "      <td>42.00</td>\n",
       "      <td>582.825000</td>\n",
       "      <td>...</td>\n",
       "      <td>5.4</td>\n",
       "      <td>5.4</td>\n",
       "      <td>7.8</td>\n",
       "      <td>-5.5</td>\n",
       "      <td>2</td>\n",
       "      <td>22</td>\n",
       "      <td>20</td>\n",
       "      <td>5</td>\n",
       "      <td>0</td>\n",
       "      <td>1</td>\n",
       "    </tr>\n",
       "  </tbody>\n",
       "</table>\n",
       "<p>49254 rows × 47 columns</p>\n",
       "</div>"
      ],
      "text/plain": [
       "       ALTITUD  Distancia_Pto_trafico1  Intensidad_Pto_trafico1  \\\n",
       "0          635               60.589582                   154.00   \n",
       "1          635               60.589582                   159.00   \n",
       "2          635               60.589582                   111.00   \n",
       "3          635               60.589582                    70.00   \n",
       "4          635               60.589582                    66.00   \n",
       "...        ...                     ...                      ...   \n",
       "49249      599              323.225854                   521.75   \n",
       "49250      599              323.225854                   497.00   \n",
       "49251      599              323.225854                   559.75   \n",
       "49252      599              323.225854                   518.50   \n",
       "49253      599              323.225854                   472.25   \n",
       "\n",
       "       Intensidad_Pto_trafico2  Intensidad_Pto_trafico3  \\\n",
       "0                       697.00                   259.00   \n",
       "1                       753.00                   282.00   \n",
       "2                       851.00                   235.00   \n",
       "3                       557.00                   150.00   \n",
       "4                       532.00                   167.00   \n",
       "...                        ...                      ...   \n",
       "49249                   882.50                  1427.00   \n",
       "49250                  1001.75                  1413.75   \n",
       "49251                  1085.75                  1487.50   \n",
       "49252                  1024.75                  1535.75   \n",
       "49253                   919.75                  1276.75   \n",
       "\n",
       "       Intensidad_Pto_trafico4  Intensidad_Pto_trafico5  Carga_Pto_trafico4  \\\n",
       "0                       847.00                   845.00               46.00   \n",
       "1                       854.00                   929.00               48.00   \n",
       "2                       678.00                  1056.00               41.00   \n",
       "3                       511.00                   719.00               33.00   \n",
       "4                       439.00                   632.00               25.00   \n",
       "...                        ...                      ...                 ...   \n",
       "49249                   113.75                  1166.50               14.25   \n",
       "49250                   135.00                  1144.25               18.25   \n",
       "49251                   138.25                  1206.25               20.00   \n",
       "49252                   139.00                  1224.25               19.25   \n",
       "49253                   122.75                  1048.75               16.50   \n",
       "\n",
       "       Carga_Pto_trafico3  Intensidad_mediaR1_500  ...  feelslike_c  \\\n",
       "0                    6.00              493.727273  ...         21.0   \n",
       "1                    8.00              500.659091  ...         20.6   \n",
       "2                    5.00              458.159091  ...         20.1   \n",
       "3                    4.00              338.454545  ...         19.7   \n",
       "4                    5.00              282.681818  ...         19.5   \n",
       "...                   ...                     ...  ...          ...   \n",
       "49249               45.50              601.100000  ...         11.0   \n",
       "49250               45.75              641.575000  ...          9.4   \n",
       "49251               48.25              699.375000  ...          7.7   \n",
       "49252               49.75              673.100000  ...          6.6   \n",
       "49253               42.00              582.825000  ...          5.4   \n",
       "\n",
       "       windchill_c  heatindex_c  dewpoint_c  mes  dia  hora  diasemana  \\\n",
       "0             21.0         21.0        10.9   10    1     0          1   \n",
       "1             20.6         20.6        11.1   10    1     1          1   \n",
       "2             20.1         20.1        11.2   10    1     2          1   \n",
       "3             19.7         19.7        11.4   10    1     3          1   \n",
       "4             19.5         19.5        11.2   10    1     4          1   \n",
       "...            ...          ...         ...  ...  ...   ...        ...   \n",
       "49249         11.0         12.1        -7.0    2   22    16          5   \n",
       "49250          9.4         11.0        -6.6    2   22    17          5   \n",
       "49251          7.7          9.8        -6.2    2   22    18          5   \n",
       "49252          6.6          8.8        -5.9    2   22    19          5   \n",
       "49253          5.4          7.8        -5.5    2   22    20          5   \n",
       "\n",
       "       Dir_viento_etiquetado  Escenario  \n",
       "0                          1          1  \n",
       "1                          1          1  \n",
       "2                          1          1  \n",
       "3                          1          0  \n",
       "4                          1          0  \n",
       "...                      ...        ...  \n",
       "49249                      1          1  \n",
       "49250                      1          1  \n",
       "49251                      1          1  \n",
       "49252                      3          1  \n",
       "49253                      0          1  \n",
       "\n",
       "[49254 rows x 47 columns]"
      ]
     },
     "execution_count": 5,
     "metadata": {},
     "output_type": "execute_result"
    }
   ],
   "source": [
    "# Consultar los registros del DataFrame\n",
    "df_aire_calidad"
   ]
  },
  {
   "cell_type": "code",
   "execution_count": 6,
   "id": "d2b80d11",
   "metadata": {
    "id": "d2b80d11",
    "outputId": "8d7241c0-1e9f-4a18-96e3-23bbe792f03b"
   },
   "outputs": [
    {
     "name": "stdout",
     "output_type": "stream",
     "text": [
      "<class 'pandas.core.frame.DataFrame'>\n",
      "Int64Index: 49254 entries, 0 to 49253\n",
      "Data columns (total 47 columns):\n",
      " #   Column                       Non-Null Count  Dtype  \n",
      "---  ------                       --------------  -----  \n",
      " 0   ALTITUD                      49254 non-null  int64  \n",
      " 1   Distancia_Pto_trafico1       49254 non-null  float64\n",
      " 2   Intensidad_Pto_trafico1      49254 non-null  float64\n",
      " 3   Intensidad_Pto_trafico2      49254 non-null  float64\n",
      " 4   Intensidad_Pto_trafico3      49254 non-null  float64\n",
      " 5   Intensidad_Pto_trafico4      49254 non-null  float64\n",
      " 6   Intensidad_Pto_trafico5      49254 non-null  float64\n",
      " 7   Carga_Pto_trafico4           49254 non-null  float64\n",
      " 8   Carga_Pto_trafico3           49254 non-null  float64\n",
      " 9   Intensidad_mediaR1_500       49254 non-null  float64\n",
      " 10  Intensidad_mediaR3_750_1000  49254 non-null  float64\n",
      " 11  Intensidad_mediaR6_2000      49254 non-null  float64\n",
      " 12  Intensidad_minR1_500         49254 non-null  float64\n",
      " 13  Intensidad_minR2_500_750     49254 non-null  float64\n",
      " 14  Intensidad_minR3_750_1000    49254 non-null  float64\n",
      " 15  Intensidad_maxR2_500_750     49254 non-null  float64\n",
      " 16  Intensidad_maxR3_750_1000    49254 non-null  float64\n",
      " 17  Intensidad_maxR4_1000_1500   49254 non-null  float64\n",
      " 18  Intensidad_maxR5_1500_2000   49254 non-null  float64\n",
      " 19  Intensidad_maxR6_2000        49254 non-null  float64\n",
      " 20  Carga_mediaR1_500            49254 non-null  float64\n",
      " 21  Carga_mediaR2_500_750        49254 non-null  float64\n",
      " 22  Carga_mediaR3_750_1000       49254 non-null  float64\n",
      " 23  Carga_mediaR4_1000_1500      49254 non-null  float64\n",
      " 24  Carga_mediaR5_1500_2000      49254 non-null  float64\n",
      " 25  Carga_mediaR6_2000           49254 non-null  float64\n",
      " 26  Carga_minR4_1000_1500        49254 non-null  float64\n",
      " 27  Carga_maxR4_1000_1500        49254 non-null  float64\n",
      " 28  Carga_maxR5_1500_2000        49254 non-null  float64\n",
      " 29  temp_c                       49254 non-null  float64\n",
      " 30  is_day                       49254 non-null  int64  \n",
      " 31  wind_kph                     49254 non-null  float64\n",
      " 32  wind_degree                  49254 non-null  int64  \n",
      " 33  pressure_mb                  49254 non-null  int64  \n",
      " 34  precip_mm                    49254 non-null  float64\n",
      " 35  humidity                     49254 non-null  int64  \n",
      " 36  cloud                        49254 non-null  int64  \n",
      " 37  feelslike_c                  49254 non-null  float64\n",
      " 38  windchill_c                  49254 non-null  float64\n",
      " 39  heatindex_c                  49254 non-null  float64\n",
      " 40  dewpoint_c                   49254 non-null  float64\n",
      " 41  mes                          49254 non-null  int64  \n",
      " 42  dia                          49254 non-null  int64  \n",
      " 43  hora                         49254 non-null  int64  \n",
      " 44  diasemana                    49254 non-null  int64  \n",
      " 45  Dir_viento_etiquetado        49254 non-null  int64  \n",
      " 46  Escenario                    49254 non-null  int64  \n",
      "dtypes: float64(35), int64(12)\n",
      "memory usage: 18.0 MB\n"
     ]
    }
   ],
   "source": [
    "# La información útil sobre los datos guardados en formato DataFrame\n",
    "df_aire_calidad.info()"
   ]
  },
  {
   "cell_type": "markdown",
   "id": "41496cfd",
   "metadata": {
    "id": "41496cfd"
   },
   "source": [
    "### Planteamiento del ejercicio de clasificación\n",
    "\n",
    "Se ha creado una variable objetivo de nombre ***Escenario*** con 2 clases como 0,1 del modo que:  \n",
    "\n",
    "* El **nivel 0** se corresponda a los valores **por debajo del percentil 25 o el primer cuartil (Q1)** de la variable objetivo original (`Calidad_NO2`).    \n",
    "* El **nivel 1** se corresponde a los valores **por encima del percentil 25 o el primer cuartil (Q1)**.  \n",
    "\n",
    "Procedemos a dividir el datset en conjuntos de train y test (usualmente con un reparto de 80% - 20%).  \n",
    "\n",
    "**Vamos a intentar predecir si la calidad de aire de las distintas zonas está en el nivel 0, 1.**\n"
   ]
  },
  {
   "cell_type": "code",
   "execution_count": 7,
   "id": "7ff124b4",
   "metadata": {
    "id": "7ff124b4",
    "outputId": "ba6951a9-6d56-44b6-eea9-302f6f2d23cc"
   },
   "outputs": [
    {
     "data": {
      "text/html": [
       "<div>\n",
       "<style scoped>\n",
       "    .dataframe tbody tr th:only-of-type {\n",
       "        vertical-align: middle;\n",
       "    }\n",
       "\n",
       "    .dataframe tbody tr th {\n",
       "        vertical-align: top;\n",
       "    }\n",
       "\n",
       "    .dataframe thead th {\n",
       "        text-align: right;\n",
       "    }\n",
       "</style>\n",
       "<table border=\"1\" class=\"dataframe\">\n",
       "  <thead>\n",
       "    <tr style=\"text-align: right;\">\n",
       "      <th></th>\n",
       "      <th>ALTITUD</th>\n",
       "      <th>Distancia_Pto_trafico1</th>\n",
       "      <th>Intensidad_Pto_trafico1</th>\n",
       "      <th>Intensidad_Pto_trafico2</th>\n",
       "      <th>Intensidad_Pto_trafico3</th>\n",
       "      <th>Intensidad_Pto_trafico4</th>\n",
       "      <th>Intensidad_Pto_trafico5</th>\n",
       "      <th>Carga_Pto_trafico4</th>\n",
       "      <th>Carga_Pto_trafico3</th>\n",
       "      <th>Intensidad_mediaR1_500</th>\n",
       "      <th>...</th>\n",
       "      <th>feelslike_c</th>\n",
       "      <th>windchill_c</th>\n",
       "      <th>heatindex_c</th>\n",
       "      <th>dewpoint_c</th>\n",
       "      <th>mes</th>\n",
       "      <th>dia</th>\n",
       "      <th>hora</th>\n",
       "      <th>diasemana</th>\n",
       "      <th>Dir_viento_etiquetado</th>\n",
       "      <th>Escenario</th>\n",
       "    </tr>\n",
       "  </thead>\n",
       "  <tbody>\n",
       "    <tr>\n",
       "      <th>count</th>\n",
       "      <td>49254.000000</td>\n",
       "      <td>49254.000000</td>\n",
       "      <td>49254.000000</td>\n",
       "      <td>49254.000000</td>\n",
       "      <td>49254.000000</td>\n",
       "      <td>49254.000000</td>\n",
       "      <td>49254.000000</td>\n",
       "      <td>49254.000000</td>\n",
       "      <td>49254.000000</td>\n",
       "      <td>49254.000000</td>\n",
       "      <td>...</td>\n",
       "      <td>49254.000000</td>\n",
       "      <td>49254.000000</td>\n",
       "      <td>49254.000000</td>\n",
       "      <td>49254.000000</td>\n",
       "      <td>49254.000000</td>\n",
       "      <td>49254.000000</td>\n",
       "      <td>49254.000000</td>\n",
       "      <td>49254.000000</td>\n",
       "      <td>49254.000000</td>\n",
       "      <td>49254.000000</td>\n",
       "    </tr>\n",
       "    <tr>\n",
       "      <th>mean</th>\n",
       "      <td>661.735027</td>\n",
       "      <td>140.003163</td>\n",
       "      <td>348.427424</td>\n",
       "      <td>307.270861</td>\n",
       "      <td>465.780060</td>\n",
       "      <td>396.266552</td>\n",
       "      <td>415.983267</td>\n",
       "      <td>24.459218</td>\n",
       "      <td>19.582406</td>\n",
       "      <td>388.981257</td>\n",
       "      <td>...</td>\n",
       "      <td>10.142878</td>\n",
       "      <td>10.158558</td>\n",
       "      <td>11.595022</td>\n",
       "      <td>2.455007</td>\n",
       "      <td>5.857250</td>\n",
       "      <td>15.798656</td>\n",
       "      <td>11.479433</td>\n",
       "      <td>3.972429</td>\n",
       "      <td>1.639258</td>\n",
       "      <td>0.759857</td>\n",
       "    </tr>\n",
       "    <tr>\n",
       "      <th>std</th>\n",
       "      <td>34.497321</td>\n",
       "      <td>98.958425</td>\n",
       "      <td>385.365535</td>\n",
       "      <td>311.674022</td>\n",
       "      <td>781.171063</td>\n",
       "      <td>363.917301</td>\n",
       "      <td>395.422520</td>\n",
       "      <td>18.969057</td>\n",
       "      <td>17.162813</td>\n",
       "      <td>304.860574</td>\n",
       "      <td>...</td>\n",
       "      <td>7.045263</td>\n",
       "      <td>7.096225</td>\n",
       "      <td>6.109079</td>\n",
       "      <td>4.533624</td>\n",
       "      <td>4.334602</td>\n",
       "      <td>8.726627</td>\n",
       "      <td>6.935243</td>\n",
       "      <td>2.008118</td>\n",
       "      <td>1.022857</td>\n",
       "      <td>0.427174</td>\n",
       "    </tr>\n",
       "    <tr>\n",
       "      <th>min</th>\n",
       "      <td>599.000000</td>\n",
       "      <td>48.351595</td>\n",
       "      <td>0.000000</td>\n",
       "      <td>0.000000</td>\n",
       "      <td>0.000000</td>\n",
       "      <td>0.000000</td>\n",
       "      <td>0.000000</td>\n",
       "      <td>0.000000</td>\n",
       "      <td>0.000000</td>\n",
       "      <td>2.500000</td>\n",
       "      <td>...</td>\n",
       "      <td>-2.600000</td>\n",
       "      <td>-2.600000</td>\n",
       "      <td>0.300000</td>\n",
       "      <td>-11.700000</td>\n",
       "      <td>1.000000</td>\n",
       "      <td>1.000000</td>\n",
       "      <td>0.000000</td>\n",
       "      <td>1.000000</td>\n",
       "      <td>0.000000</td>\n",
       "      <td>0.000000</td>\n",
       "    </tr>\n",
       "    <tr>\n",
       "      <th>25%</th>\n",
       "      <td>635.000000</td>\n",
       "      <td>71.219285</td>\n",
       "      <td>61.500000</td>\n",
       "      <td>71.000000</td>\n",
       "      <td>89.250000</td>\n",
       "      <td>84.000000</td>\n",
       "      <td>72.750000</td>\n",
       "      <td>8.000000</td>\n",
       "      <td>6.000000</td>\n",
       "      <td>146.391667</td>\n",
       "      <td>...</td>\n",
       "      <td>4.800000</td>\n",
       "      <td>4.800000</td>\n",
       "      <td>7.100000</td>\n",
       "      <td>-0.800000</td>\n",
       "      <td>2.000000</td>\n",
       "      <td>8.000000</td>\n",
       "      <td>5.000000</td>\n",
       "      <td>2.000000</td>\n",
       "      <td>1.000000</td>\n",
       "      <td>1.000000</td>\n",
       "    </tr>\n",
       "    <tr>\n",
       "      <th>50%</th>\n",
       "      <td>670.000000</td>\n",
       "      <td>86.018742</td>\n",
       "      <td>208.750000</td>\n",
       "      <td>193.000000</td>\n",
       "      <td>269.000000</td>\n",
       "      <td>276.875000</td>\n",
       "      <td>309.000000</td>\n",
       "      <td>20.000000</td>\n",
       "      <td>14.250000</td>\n",
       "      <td>326.584350</td>\n",
       "      <td>...</td>\n",
       "      <td>8.700000</td>\n",
       "      <td>8.700000</td>\n",
       "      <td>10.300000</td>\n",
       "      <td>2.400000</td>\n",
       "      <td>4.000000</td>\n",
       "      <td>16.000000</td>\n",
       "      <td>11.000000</td>\n",
       "      <td>4.000000</td>\n",
       "      <td>2.000000</td>\n",
       "      <td>1.000000</td>\n",
       "    </tr>\n",
       "    <tr>\n",
       "      <th>75%</th>\n",
       "      <td>693.000000</td>\n",
       "      <td>168.527832</td>\n",
       "      <td>476.750000</td>\n",
       "      <td>446.500000</td>\n",
       "      <td>669.750000</td>\n",
       "      <td>649.000000</td>\n",
       "      <td>647.000000</td>\n",
       "      <td>38.250000</td>\n",
       "      <td>29.000000</td>\n",
       "      <td>560.473438</td>\n",
       "      <td>...</td>\n",
       "      <td>14.500000</td>\n",
       "      <td>14.500000</td>\n",
       "      <td>14.700000</td>\n",
       "      <td>5.800000</td>\n",
       "      <td>11.000000</td>\n",
       "      <td>23.000000</td>\n",
       "      <td>17.000000</td>\n",
       "      <td>6.000000</td>\n",
       "      <td>2.000000</td>\n",
       "      <td>1.000000</td>\n",
       "    </tr>\n",
       "    <tr>\n",
       "      <th>max</th>\n",
       "      <td>708.000000</td>\n",
       "      <td>407.571507</td>\n",
       "      <td>2844.250000</td>\n",
       "      <td>1950.000000</td>\n",
       "      <td>30660.000000</td>\n",
       "      <td>3121.750000</td>\n",
       "      <td>2307.000000</td>\n",
       "      <td>100.000000</td>\n",
       "      <td>100.000000</td>\n",
       "      <td>2632.795833</td>\n",
       "      <td>...</td>\n",
       "      <td>31.400000</td>\n",
       "      <td>33.500000</td>\n",
       "      <td>31.400000</td>\n",
       "      <td>16.500000</td>\n",
       "      <td>12.000000</td>\n",
       "      <td>31.000000</td>\n",
       "      <td>23.000000</td>\n",
       "      <td>7.000000</td>\n",
       "      <td>3.000000</td>\n",
       "      <td>1.000000</td>\n",
       "    </tr>\n",
       "  </tbody>\n",
       "</table>\n",
       "<p>8 rows × 47 columns</p>\n",
       "</div>"
      ],
      "text/plain": [
       "            ALTITUD  Distancia_Pto_trafico1  Intensidad_Pto_trafico1  \\\n",
       "count  49254.000000            49254.000000             49254.000000   \n",
       "mean     661.735027              140.003163               348.427424   \n",
       "std       34.497321               98.958425               385.365535   \n",
       "min      599.000000               48.351595                 0.000000   \n",
       "25%      635.000000               71.219285                61.500000   \n",
       "50%      670.000000               86.018742               208.750000   \n",
       "75%      693.000000              168.527832               476.750000   \n",
       "max      708.000000              407.571507              2844.250000   \n",
       "\n",
       "       Intensidad_Pto_trafico2  Intensidad_Pto_trafico3  \\\n",
       "count             49254.000000             49254.000000   \n",
       "mean                307.270861               465.780060   \n",
       "std                 311.674022               781.171063   \n",
       "min                   0.000000                 0.000000   \n",
       "25%                  71.000000                89.250000   \n",
       "50%                 193.000000               269.000000   \n",
       "75%                 446.500000               669.750000   \n",
       "max                1950.000000             30660.000000   \n",
       "\n",
       "       Intensidad_Pto_trafico4  Intensidad_Pto_trafico5  Carga_Pto_trafico4  \\\n",
       "count             49254.000000             49254.000000        49254.000000   \n",
       "mean                396.266552               415.983267           24.459218   \n",
       "std                 363.917301               395.422520           18.969057   \n",
       "min                   0.000000                 0.000000            0.000000   \n",
       "25%                  84.000000                72.750000            8.000000   \n",
       "50%                 276.875000               309.000000           20.000000   \n",
       "75%                 649.000000               647.000000           38.250000   \n",
       "max                3121.750000              2307.000000          100.000000   \n",
       "\n",
       "       Carga_Pto_trafico3  Intensidad_mediaR1_500  ...   feelslike_c  \\\n",
       "count        49254.000000            49254.000000  ...  49254.000000   \n",
       "mean            19.582406              388.981257  ...     10.142878   \n",
       "std             17.162813              304.860574  ...      7.045263   \n",
       "min              0.000000                2.500000  ...     -2.600000   \n",
       "25%              6.000000              146.391667  ...      4.800000   \n",
       "50%             14.250000              326.584350  ...      8.700000   \n",
       "75%             29.000000              560.473438  ...     14.500000   \n",
       "max            100.000000             2632.795833  ...     31.400000   \n",
       "\n",
       "        windchill_c   heatindex_c    dewpoint_c           mes           dia  \\\n",
       "count  49254.000000  49254.000000  49254.000000  49254.000000  49254.000000   \n",
       "mean      10.158558     11.595022      2.455007      5.857250     15.798656   \n",
       "std        7.096225      6.109079      4.533624      4.334602      8.726627   \n",
       "min       -2.600000      0.300000    -11.700000      1.000000      1.000000   \n",
       "25%        4.800000      7.100000     -0.800000      2.000000      8.000000   \n",
       "50%        8.700000     10.300000      2.400000      4.000000     16.000000   \n",
       "75%       14.500000     14.700000      5.800000     11.000000     23.000000   \n",
       "max       33.500000     31.400000     16.500000     12.000000     31.000000   \n",
       "\n",
       "               hora     diasemana  Dir_viento_etiquetado     Escenario  \n",
       "count  49254.000000  49254.000000           49254.000000  49254.000000  \n",
       "mean      11.479433      3.972429               1.639258      0.759857  \n",
       "std        6.935243      2.008118               1.022857      0.427174  \n",
       "min        0.000000      1.000000               0.000000      0.000000  \n",
       "25%        5.000000      2.000000               1.000000      1.000000  \n",
       "50%       11.000000      4.000000               2.000000      1.000000  \n",
       "75%       17.000000      6.000000               2.000000      1.000000  \n",
       "max       23.000000      7.000000               3.000000      1.000000  \n",
       "\n",
       "[8 rows x 47 columns]"
      ]
     },
     "execution_count": 7,
     "metadata": {},
     "output_type": "execute_result"
    }
   ],
   "source": [
    "df_aire_calidad.describe()"
   ]
  },
  {
   "cell_type": "code",
   "execution_count": 8,
   "id": "e954f711",
   "metadata": {
    "id": "e954f711",
    "outputId": "7ce0ce21-8c7e-424a-e2a0-0f3a5c7f1970"
   },
   "outputs": [
    {
     "data": {
      "image/png": "[encoded data removed]",
      "text/plain": [
       "<Figure size 2000x600 with 1 Axes>"
      ]
     },
     "metadata": {},
     "output_type": "display_data"
    }
   ],
   "source": [
    "# Graficar la distribución de los valores originales\n",
    "plt.figure(figsize=(20,6))\n",
    "sns.violinplot(data=df_aire_calidad, orient='v')\n",
    "plt.show()"
   ]
  },
  {
   "cell_type": "code",
   "execution_count": 9,
   "id": "39835834",
   "metadata": {
    "id": "39835834"
   },
   "outputs": [],
   "source": [
    "## Preparar el conjunto de datos del modelo\n",
    "\n",
    "# Variables independientes (features)\n",
    "X = df_aire_calidad.drop('Escenario', axis='columns')\n",
    "\n",
    "# Variable dependiente (target) que son los niveles de aire con menos contaminación\n",
    "y = df_aire_calidad['Escenario']"
   ]
  },
  {
   "cell_type": "markdown",
   "id": "0dfba075",
   "metadata": {
    "id": "0dfba075"
   },
   "source": [
    "Se puede observar la necesidad de llevar todas las variables de entrada a una escala estándar."
   ]
  },
  {
   "cell_type": "code",
   "execution_count": 10,
   "id": "1aa753c8",
   "metadata": {
    "id": "1aa753c8",
    "outputId": "20df6cb3-2f6c-44e5-cdc4-bfc589678e88"
   },
   "outputs": [
    {
     "data": {
      "text/plain": [
       "array([[0.33027523, 0.03406823, 0.05414433, ..., 0.        , 0.        ,\n",
       "        0.33333333],\n",
       "       [0.33027523, 0.03406823, 0.05590226, ..., 0.04347826, 0.        ,\n",
       "        0.33333333],\n",
       "       [0.33027523, 0.03406823, 0.03902611, ..., 0.08695652, 0.        ,\n",
       "        0.33333333],\n",
       "       ...,\n",
       "       [0.        , 0.76519772, 0.19680056, ..., 0.7826087 , 0.66666667,\n",
       "        0.33333333],\n",
       "       [0.        , 0.76519772, 0.18229762, ..., 0.82608696, 0.66666667,\n",
       "        1.        ],\n",
       "       [0.        , 0.76519772, 0.16603674, ..., 0.86956522, 0.66666667,\n",
       "        0.        ]])"
      ]
     },
     "execution_count": 10,
     "metadata": {},
     "output_type": "execute_result"
    }
   ],
   "source": [
    "# importar los objetos necesarios de la librería sklearn\n",
    "from sklearn.preprocessing import MinMaxScaler\n",
    "\n",
    "# declarar el tipo de escalamiento y aplicarlo al conjunto de datos\n",
    "escalado = MinMaxScaler().fit(X)\n",
    "dataset_normal = escalado.transform(X)\n",
    "dataset_normal"
   ]
  },
  {
   "cell_type": "code",
   "execution_count": 11,
   "id": "d5c0fcf2",
   "metadata": {
    "id": "d5c0fcf2",
    "outputId": "904e9cf5-ec19-4c2d-dfaf-8cec2bbf9b35"
   },
   "outputs": [
    {
     "name": "stdout",
     "output_type": "stream",
     "text": [
      "<class 'pandas.core.frame.DataFrame'>\n"
     ]
    },
    {
     "data": {
      "text/html": [
       "<div>\n",
       "<style scoped>\n",
       "    .dataframe tbody tr th:only-of-type {\n",
       "        vertical-align: middle;\n",
       "    }\n",
       "\n",
       "    .dataframe tbody tr th {\n",
       "        vertical-align: top;\n",
       "    }\n",
       "\n",
       "    .dataframe thead th {\n",
       "        text-align: right;\n",
       "    }\n",
       "</style>\n",
       "<table border=\"1\" class=\"dataframe\">\n",
       "  <thead>\n",
       "    <tr style=\"text-align: right;\">\n",
       "      <th></th>\n",
       "      <th>ALTITUD</th>\n",
       "      <th>Distancia_Pto_trafico1</th>\n",
       "      <th>Intensidad_Pto_trafico1</th>\n",
       "      <th>Intensidad_Pto_trafico2</th>\n",
       "      <th>Intensidad_Pto_trafico3</th>\n",
       "      <th>Intensidad_Pto_trafico4</th>\n",
       "      <th>Intensidad_Pto_trafico5</th>\n",
       "      <th>Carga_Pto_trafico4</th>\n",
       "      <th>Carga_Pto_trafico3</th>\n",
       "      <th>Intensidad_mediaR1_500</th>\n",
       "      <th>...</th>\n",
       "      <th>cloud</th>\n",
       "      <th>feelslike_c</th>\n",
       "      <th>windchill_c</th>\n",
       "      <th>heatindex_c</th>\n",
       "      <th>dewpoint_c</th>\n",
       "      <th>mes</th>\n",
       "      <th>dia</th>\n",
       "      <th>hora</th>\n",
       "      <th>diasemana</th>\n",
       "      <th>Dir_viento_etiquetado</th>\n",
       "    </tr>\n",
       "  </thead>\n",
       "  <tbody>\n",
       "    <tr>\n",
       "      <th>0</th>\n",
       "      <td>0.330275</td>\n",
       "      <td>0.034068</td>\n",
       "      <td>0.054144</td>\n",
       "      <td>0.357436</td>\n",
       "      <td>0.008447</td>\n",
       "      <td>0.271322</td>\n",
       "      <td>0.366277</td>\n",
       "      <td>0.4600</td>\n",
       "      <td>0.0600</td>\n",
       "      <td>0.186757</td>\n",
       "      <td>...</td>\n",
       "      <td>0.00</td>\n",
       "      <td>0.694118</td>\n",
       "      <td>0.653740</td>\n",
       "      <td>0.665595</td>\n",
       "      <td>0.801418</td>\n",
       "      <td>0.818182</td>\n",
       "      <td>0.0</td>\n",
       "      <td>0.000000</td>\n",
       "      <td>0.000000</td>\n",
       "      <td>0.333333</td>\n",
       "    </tr>\n",
       "    <tr>\n",
       "      <th>1</th>\n",
       "      <td>0.330275</td>\n",
       "      <td>0.034068</td>\n",
       "      <td>0.055902</td>\n",
       "      <td>0.386154</td>\n",
       "      <td>0.009198</td>\n",
       "      <td>0.273565</td>\n",
       "      <td>0.402687</td>\n",
       "      <td>0.4800</td>\n",
       "      <td>0.0800</td>\n",
       "      <td>0.189393</td>\n",
       "      <td>...</td>\n",
       "      <td>0.00</td>\n",
       "      <td>0.682353</td>\n",
       "      <td>0.642659</td>\n",
       "      <td>0.652733</td>\n",
       "      <td>0.808511</td>\n",
       "      <td>0.818182</td>\n",
       "      <td>0.0</td>\n",
       "      <td>0.043478</td>\n",
       "      <td>0.000000</td>\n",
       "      <td>0.333333</td>\n",
       "    </tr>\n",
       "    <tr>\n",
       "      <th>2</th>\n",
       "      <td>0.330275</td>\n",
       "      <td>0.034068</td>\n",
       "      <td>0.039026</td>\n",
       "      <td>0.436410</td>\n",
       "      <td>0.007665</td>\n",
       "      <td>0.217186</td>\n",
       "      <td>0.457737</td>\n",
       "      <td>0.4100</td>\n",
       "      <td>0.0500</td>\n",
       "      <td>0.173235</td>\n",
       "      <td>...</td>\n",
       "      <td>0.00</td>\n",
       "      <td>0.667647</td>\n",
       "      <td>0.628809</td>\n",
       "      <td>0.636656</td>\n",
       "      <td>0.812057</td>\n",
       "      <td>0.818182</td>\n",
       "      <td>0.0</td>\n",
       "      <td>0.086957</td>\n",
       "      <td>0.000000</td>\n",
       "      <td>0.333333</td>\n",
       "    </tr>\n",
       "    <tr>\n",
       "      <th>3</th>\n",
       "      <td>0.330275</td>\n",
       "      <td>0.034068</td>\n",
       "      <td>0.024611</td>\n",
       "      <td>0.285641</td>\n",
       "      <td>0.004892</td>\n",
       "      <td>0.163690</td>\n",
       "      <td>0.311660</td>\n",
       "      <td>0.3300</td>\n",
       "      <td>0.0400</td>\n",
       "      <td>0.127725</td>\n",
       "      <td>...</td>\n",
       "      <td>0.00</td>\n",
       "      <td>0.655882</td>\n",
       "      <td>0.617729</td>\n",
       "      <td>0.623794</td>\n",
       "      <td>0.819149</td>\n",
       "      <td>0.818182</td>\n",
       "      <td>0.0</td>\n",
       "      <td>0.130435</td>\n",
       "      <td>0.000000</td>\n",
       "      <td>0.333333</td>\n",
       "    </tr>\n",
       "    <tr>\n",
       "      <th>4</th>\n",
       "      <td>0.330275</td>\n",
       "      <td>0.034068</td>\n",
       "      <td>0.023205</td>\n",
       "      <td>0.272821</td>\n",
       "      <td>0.005447</td>\n",
       "      <td>0.140626</td>\n",
       "      <td>0.273949</td>\n",
       "      <td>0.2500</td>\n",
       "      <td>0.0500</td>\n",
       "      <td>0.106521</td>\n",
       "      <td>...</td>\n",
       "      <td>0.11</td>\n",
       "      <td>0.650000</td>\n",
       "      <td>0.612188</td>\n",
       "      <td>0.617363</td>\n",
       "      <td>0.812057</td>\n",
       "      <td>0.818182</td>\n",
       "      <td>0.0</td>\n",
       "      <td>0.173913</td>\n",
       "      <td>0.000000</td>\n",
       "      <td>0.333333</td>\n",
       "    </tr>\n",
       "    <tr>\n",
       "      <th>...</th>\n",
       "      <td>...</td>\n",
       "      <td>...</td>\n",
       "      <td>...</td>\n",
       "      <td>...</td>\n",
       "      <td>...</td>\n",
       "      <td>...</td>\n",
       "      <td>...</td>\n",
       "      <td>...</td>\n",
       "      <td>...</td>\n",
       "      <td>...</td>\n",
       "      <td>...</td>\n",
       "      <td>...</td>\n",
       "      <td>...</td>\n",
       "      <td>...</td>\n",
       "      <td>...</td>\n",
       "      <td>...</td>\n",
       "      <td>...</td>\n",
       "      <td>...</td>\n",
       "      <td>...</td>\n",
       "      <td>...</td>\n",
       "      <td>...</td>\n",
       "    </tr>\n",
       "    <tr>\n",
       "      <th>49249</th>\n",
       "      <td>0.000000</td>\n",
       "      <td>0.765198</td>\n",
       "      <td>0.183440</td>\n",
       "      <td>0.452564</td>\n",
       "      <td>0.046543</td>\n",
       "      <td>0.036438</td>\n",
       "      <td>0.505635</td>\n",
       "      <td>0.1425</td>\n",
       "      <td>0.4550</td>\n",
       "      <td>0.227579</td>\n",
       "      <td>...</td>\n",
       "      <td>0.05</td>\n",
       "      <td>0.400000</td>\n",
       "      <td>0.376731</td>\n",
       "      <td>0.379421</td>\n",
       "      <td>0.166667</td>\n",
       "      <td>0.090909</td>\n",
       "      <td>0.7</td>\n",
       "      <td>0.695652</td>\n",
       "      <td>0.666667</td>\n",
       "      <td>0.333333</td>\n",
       "    </tr>\n",
       "    <tr>\n",
       "      <th>49250</th>\n",
       "      <td>0.000000</td>\n",
       "      <td>0.765198</td>\n",
       "      <td>0.174739</td>\n",
       "      <td>0.513718</td>\n",
       "      <td>0.046111</td>\n",
       "      <td>0.043245</td>\n",
       "      <td>0.495990</td>\n",
       "      <td>0.1825</td>\n",
       "      <td>0.4575</td>\n",
       "      <td>0.242967</td>\n",
       "      <td>...</td>\n",
       "      <td>0.05</td>\n",
       "      <td>0.352941</td>\n",
       "      <td>0.332410</td>\n",
       "      <td>0.344051</td>\n",
       "      <td>0.180851</td>\n",
       "      <td>0.090909</td>\n",
       "      <td>0.7</td>\n",
       "      <td>0.739130</td>\n",
       "      <td>0.666667</td>\n",
       "      <td>0.333333</td>\n",
       "    </tr>\n",
       "    <tr>\n",
       "      <th>49251</th>\n",
       "      <td>0.000000</td>\n",
       "      <td>0.765198</td>\n",
       "      <td>0.196801</td>\n",
       "      <td>0.556795</td>\n",
       "      <td>0.048516</td>\n",
       "      <td>0.044286</td>\n",
       "      <td>0.522865</td>\n",
       "      <td>0.2000</td>\n",
       "      <td>0.4825</td>\n",
       "      <td>0.264942</td>\n",
       "      <td>...</td>\n",
       "      <td>0.05</td>\n",
       "      <td>0.302941</td>\n",
       "      <td>0.285319</td>\n",
       "      <td>0.305466</td>\n",
       "      <td>0.195035</td>\n",
       "      <td>0.090909</td>\n",
       "      <td>0.7</td>\n",
       "      <td>0.782609</td>\n",
       "      <td>0.666667</td>\n",
       "      <td>0.333333</td>\n",
       "    </tr>\n",
       "    <tr>\n",
       "      <th>49252</th>\n",
       "      <td>0.000000</td>\n",
       "      <td>0.765198</td>\n",
       "      <td>0.182298</td>\n",
       "      <td>0.525513</td>\n",
       "      <td>0.050090</td>\n",
       "      <td>0.044526</td>\n",
       "      <td>0.530668</td>\n",
       "      <td>0.1925</td>\n",
       "      <td>0.4975</td>\n",
       "      <td>0.254952</td>\n",
       "      <td>...</td>\n",
       "      <td>0.05</td>\n",
       "      <td>0.270588</td>\n",
       "      <td>0.254848</td>\n",
       "      <td>0.273312</td>\n",
       "      <td>0.205674</td>\n",
       "      <td>0.090909</td>\n",
       "      <td>0.7</td>\n",
       "      <td>0.826087</td>\n",
       "      <td>0.666667</td>\n",
       "      <td>1.000000</td>\n",
       "    </tr>\n",
       "    <tr>\n",
       "      <th>49253</th>\n",
       "      <td>0.000000</td>\n",
       "      <td>0.765198</td>\n",
       "      <td>0.166037</td>\n",
       "      <td>0.471667</td>\n",
       "      <td>0.041642</td>\n",
       "      <td>0.039321</td>\n",
       "      <td>0.454595</td>\n",
       "      <td>0.1650</td>\n",
       "      <td>0.4200</td>\n",
       "      <td>0.220631</td>\n",
       "      <td>...</td>\n",
       "      <td>0.05</td>\n",
       "      <td>0.235294</td>\n",
       "      <td>0.221607</td>\n",
       "      <td>0.241158</td>\n",
       "      <td>0.219858</td>\n",
       "      <td>0.090909</td>\n",
       "      <td>0.7</td>\n",
       "      <td>0.869565</td>\n",
       "      <td>0.666667</td>\n",
       "      <td>0.000000</td>\n",
       "    </tr>\n",
       "  </tbody>\n",
       "</table>\n",
       "<p>49254 rows × 46 columns</p>\n",
       "</div>"
      ],
      "text/plain": [
       "        ALTITUD  Distancia_Pto_trafico1  Intensidad_Pto_trafico1  \\\n",
       "0      0.330275                0.034068                 0.054144   \n",
       "1      0.330275                0.034068                 0.055902   \n",
       "2      0.330275                0.034068                 0.039026   \n",
       "3      0.330275                0.034068                 0.024611   \n",
       "4      0.330275                0.034068                 0.023205   \n",
       "...         ...                     ...                      ...   \n",
       "49249  0.000000                0.765198                 0.183440   \n",
       "49250  0.000000                0.765198                 0.174739   \n",
       "49251  0.000000                0.765198                 0.196801   \n",
       "49252  0.000000                0.765198                 0.182298   \n",
       "49253  0.000000                0.765198                 0.166037   \n",
       "\n",
       "       Intensidad_Pto_trafico2  Intensidad_Pto_trafico3  \\\n",
       "0                     0.357436                 0.008447   \n",
       "1                     0.386154                 0.009198   \n",
       "2                     0.436410                 0.007665   \n",
       "3                     0.285641                 0.004892   \n",
       "4                     0.272821                 0.005447   \n",
       "...                        ...                      ...   \n",
       "49249                 0.452564                 0.046543   \n",
       "49250                 0.513718                 0.046111   \n",
       "49251                 0.556795                 0.048516   \n",
       "49252                 0.525513                 0.050090   \n",
       "49253                 0.471667                 0.041642   \n",
       "\n",
       "       Intensidad_Pto_trafico4  Intensidad_Pto_trafico5  Carga_Pto_trafico4  \\\n",
       "0                     0.271322                 0.366277              0.4600   \n",
       "1                     0.273565                 0.402687              0.4800   \n",
       "2                     0.217186                 0.457737              0.4100   \n",
       "3                     0.163690                 0.311660              0.3300   \n",
       "4                     0.140626                 0.273949              0.2500   \n",
       "...                        ...                      ...                 ...   \n",
       "49249                 0.036438                 0.505635              0.1425   \n",
       "49250                 0.043245                 0.495990              0.1825   \n",
       "49251                 0.044286                 0.522865              0.2000   \n",
       "49252                 0.044526                 0.530668              0.1925   \n",
       "49253                 0.039321                 0.454595              0.1650   \n",
       "\n",
       "       Carga_Pto_trafico3  Intensidad_mediaR1_500  ...  cloud  feelslike_c  \\\n",
       "0                  0.0600                0.186757  ...   0.00     0.694118   \n",
       "1                  0.0800                0.189393  ...   0.00     0.682353   \n",
       "2                  0.0500                0.173235  ...   0.00     0.667647   \n",
       "3                  0.0400                0.127725  ...   0.00     0.655882   \n",
       "4                  0.0500                0.106521  ...   0.11     0.650000   \n",
       "...                   ...                     ...  ...    ...          ...   \n",
       "49249              0.4550                0.227579  ...   0.05     0.400000   \n",
       "49250              0.4575                0.242967  ...   0.05     0.352941   \n",
       "49251              0.4825                0.264942  ...   0.05     0.302941   \n",
       "49252              0.4975                0.254952  ...   0.05     0.270588   \n",
       "49253              0.4200                0.220631  ...   0.05     0.235294   \n",
       "\n",
       "       windchill_c  heatindex_c  dewpoint_c       mes  dia      hora  \\\n",
       "0         0.653740     0.665595    0.801418  0.818182  0.0  0.000000   \n",
       "1         0.642659     0.652733    0.808511  0.818182  0.0  0.043478   \n",
       "2         0.628809     0.636656    0.812057  0.818182  0.0  0.086957   \n",
       "3         0.617729     0.623794    0.819149  0.818182  0.0  0.130435   \n",
       "4         0.612188     0.617363    0.812057  0.818182  0.0  0.173913   \n",
       "...            ...          ...         ...       ...  ...       ...   \n",
       "49249     0.376731     0.379421    0.166667  0.090909  0.7  0.695652   \n",
       "49250     0.332410     0.344051    0.180851  0.090909  0.7  0.739130   \n",
       "49251     0.285319     0.305466    0.195035  0.090909  0.7  0.782609   \n",
       "49252     0.254848     0.273312    0.205674  0.090909  0.7  0.826087   \n",
       "49253     0.221607     0.241158    0.219858  0.090909  0.7  0.869565   \n",
       "\n",
       "       diasemana  Dir_viento_etiquetado  \n",
       "0       0.000000               0.333333  \n",
       "1       0.000000               0.333333  \n",
       "2       0.000000               0.333333  \n",
       "3       0.000000               0.333333  \n",
       "4       0.000000               0.333333  \n",
       "...          ...                    ...  \n",
       "49249   0.666667               0.333333  \n",
       "49250   0.666667               0.333333  \n",
       "49251   0.666667               0.333333  \n",
       "49252   0.666667               1.000000  \n",
       "49253   0.666667               0.000000  \n",
       "\n",
       "[49254 rows x 46 columns]"
      ]
     },
     "execution_count": 11,
     "metadata": {},
     "output_type": "execute_result"
    }
   ],
   "source": [
    "# Lo convertimos en un DataFrame, añadiendole sus etiquetas\n",
    "X_normal = pd.DataFrame(dataset_normal, columns=X.columns)\n",
    "print(type(X_normal))\n",
    "X_normal"
   ]
  },
  {
   "cell_type": "code",
   "execution_count": 12,
   "id": "33570831",
   "metadata": {
    "id": "33570831",
    "outputId": "996c673b-69d0-4d72-8ead-125c4119e2e2"
   },
   "outputs": [
    {
     "data": {
      "text/html": [
       "<div>\n",
       "<style scoped>\n",
       "    .dataframe tbody tr th:only-of-type {\n",
       "        vertical-align: middle;\n",
       "    }\n",
       "\n",
       "    .dataframe tbody tr th {\n",
       "        vertical-align: top;\n",
       "    }\n",
       "\n",
       "    .dataframe thead th {\n",
       "        text-align: right;\n",
       "    }\n",
       "</style>\n",
       "<table border=\"1\" class=\"dataframe\">\n",
       "  <thead>\n",
       "    <tr style=\"text-align: right;\">\n",
       "      <th></th>\n",
       "      <th>ALTITUD</th>\n",
       "      <th>Distancia_Pto_trafico1</th>\n",
       "      <th>Intensidad_Pto_trafico1</th>\n",
       "      <th>Intensidad_Pto_trafico2</th>\n",
       "      <th>Intensidad_Pto_trafico3</th>\n",
       "      <th>Intensidad_Pto_trafico4</th>\n",
       "      <th>Intensidad_Pto_trafico5</th>\n",
       "      <th>Carga_Pto_trafico4</th>\n",
       "      <th>Carga_Pto_trafico3</th>\n",
       "      <th>Intensidad_mediaR1_500</th>\n",
       "      <th>...</th>\n",
       "      <th>cloud</th>\n",
       "      <th>feelslike_c</th>\n",
       "      <th>windchill_c</th>\n",
       "      <th>heatindex_c</th>\n",
       "      <th>dewpoint_c</th>\n",
       "      <th>mes</th>\n",
       "      <th>dia</th>\n",
       "      <th>hora</th>\n",
       "      <th>diasemana</th>\n",
       "      <th>Dir_viento_etiquetado</th>\n",
       "    </tr>\n",
       "  </thead>\n",
       "  <tbody>\n",
       "    <tr>\n",
       "      <th>count</th>\n",
       "      <td>49254.0000</td>\n",
       "      <td>49254.0000</td>\n",
       "      <td>49254.0000</td>\n",
       "      <td>49254.0000</td>\n",
       "      <td>49254.0000</td>\n",
       "      <td>49254.0000</td>\n",
       "      <td>49254.0000</td>\n",
       "      <td>49254.0000</td>\n",
       "      <td>49254.0000</td>\n",
       "      <td>49254.0000</td>\n",
       "      <td>...</td>\n",
       "      <td>49254.0000</td>\n",
       "      <td>49254.0000</td>\n",
       "      <td>49254.0000</td>\n",
       "      <td>49254.0000</td>\n",
       "      <td>49254.0000</td>\n",
       "      <td>49254.0000</td>\n",
       "      <td>49254.0000</td>\n",
       "      <td>49254.0000</td>\n",
       "      <td>49254.0000</td>\n",
       "      <td>49254.0000</td>\n",
       "    </tr>\n",
       "    <tr>\n",
       "      <th>mean</th>\n",
       "      <td>0.5756</td>\n",
       "      <td>0.2551</td>\n",
       "      <td>0.1225</td>\n",
       "      <td>0.1576</td>\n",
       "      <td>0.0152</td>\n",
       "      <td>0.1269</td>\n",
       "      <td>0.1803</td>\n",
       "      <td>0.2446</td>\n",
       "      <td>0.1958</td>\n",
       "      <td>0.1469</td>\n",
       "      <td>...</td>\n",
       "      <td>0.3238</td>\n",
       "      <td>0.3748</td>\n",
       "      <td>0.3534</td>\n",
       "      <td>0.3632</td>\n",
       "      <td>0.5020</td>\n",
       "      <td>0.4416</td>\n",
       "      <td>0.4933</td>\n",
       "      <td>0.4991</td>\n",
       "      <td>0.4954</td>\n",
       "      <td>0.5464</td>\n",
       "    </tr>\n",
       "    <tr>\n",
       "      <th>std</th>\n",
       "      <td>0.3165</td>\n",
       "      <td>0.2755</td>\n",
       "      <td>0.1355</td>\n",
       "      <td>0.1598</td>\n",
       "      <td>0.0255</td>\n",
       "      <td>0.1166</td>\n",
       "      <td>0.1714</td>\n",
       "      <td>0.1897</td>\n",
       "      <td>0.1716</td>\n",
       "      <td>0.1159</td>\n",
       "      <td>...</td>\n",
       "      <td>0.3392</td>\n",
       "      <td>0.2072</td>\n",
       "      <td>0.1966</td>\n",
       "      <td>0.1964</td>\n",
       "      <td>0.1608</td>\n",
       "      <td>0.3941</td>\n",
       "      <td>0.2909</td>\n",
       "      <td>0.3015</td>\n",
       "      <td>0.3347</td>\n",
       "      <td>0.3410</td>\n",
       "    </tr>\n",
       "    <tr>\n",
       "      <th>min</th>\n",
       "      <td>0.0000</td>\n",
       "      <td>0.0000</td>\n",
       "      <td>0.0000</td>\n",
       "      <td>0.0000</td>\n",
       "      <td>0.0000</td>\n",
       "      <td>0.0000</td>\n",
       "      <td>0.0000</td>\n",
       "      <td>0.0000</td>\n",
       "      <td>0.0000</td>\n",
       "      <td>0.0000</td>\n",
       "      <td>...</td>\n",
       "      <td>0.0000</td>\n",
       "      <td>0.0000</td>\n",
       "      <td>0.0000</td>\n",
       "      <td>0.0000</td>\n",
       "      <td>0.0000</td>\n",
       "      <td>0.0000</td>\n",
       "      <td>0.0000</td>\n",
       "      <td>0.0000</td>\n",
       "      <td>0.0000</td>\n",
       "      <td>0.0000</td>\n",
       "    </tr>\n",
       "    <tr>\n",
       "      <th>25%</th>\n",
       "      <td>0.3303</td>\n",
       "      <td>0.0637</td>\n",
       "      <td>0.0216</td>\n",
       "      <td>0.0364</td>\n",
       "      <td>0.0029</td>\n",
       "      <td>0.0269</td>\n",
       "      <td>0.0315</td>\n",
       "      <td>0.0800</td>\n",
       "      <td>0.0600</td>\n",
       "      <td>0.0547</td>\n",
       "      <td>...</td>\n",
       "      <td>0.0300</td>\n",
       "      <td>0.2176</td>\n",
       "      <td>0.2050</td>\n",
       "      <td>0.2186</td>\n",
       "      <td>0.3865</td>\n",
       "      <td>0.0909</td>\n",
       "      <td>0.2333</td>\n",
       "      <td>0.2174</td>\n",
       "      <td>0.1667</td>\n",
       "      <td>0.3333</td>\n",
       "    </tr>\n",
       "    <tr>\n",
       "      <th>50%</th>\n",
       "      <td>0.6514</td>\n",
       "      <td>0.1049</td>\n",
       "      <td>0.0734</td>\n",
       "      <td>0.0990</td>\n",
       "      <td>0.0088</td>\n",
       "      <td>0.0887</td>\n",
       "      <td>0.1339</td>\n",
       "      <td>0.2000</td>\n",
       "      <td>0.1425</td>\n",
       "      <td>0.1232</td>\n",
       "      <td>...</td>\n",
       "      <td>0.1800</td>\n",
       "      <td>0.3324</td>\n",
       "      <td>0.3130</td>\n",
       "      <td>0.3215</td>\n",
       "      <td>0.5000</td>\n",
       "      <td>0.2727</td>\n",
       "      <td>0.5000</td>\n",
       "      <td>0.4783</td>\n",
       "      <td>0.5000</td>\n",
       "      <td>0.6667</td>\n",
       "    </tr>\n",
       "    <tr>\n",
       "      <th>75%</th>\n",
       "      <td>0.8624</td>\n",
       "      <td>0.3345</td>\n",
       "      <td>0.1676</td>\n",
       "      <td>0.2290</td>\n",
       "      <td>0.0218</td>\n",
       "      <td>0.2079</td>\n",
       "      <td>0.2805</td>\n",
       "      <td>0.3825</td>\n",
       "      <td>0.2900</td>\n",
       "      <td>0.2121</td>\n",
       "      <td>...</td>\n",
       "      <td>0.6100</td>\n",
       "      <td>0.5029</td>\n",
       "      <td>0.4737</td>\n",
       "      <td>0.4630</td>\n",
       "      <td>0.6206</td>\n",
       "      <td>0.9091</td>\n",
       "      <td>0.7333</td>\n",
       "      <td>0.7391</td>\n",
       "      <td>0.8333</td>\n",
       "      <td>0.6667</td>\n",
       "    </tr>\n",
       "    <tr>\n",
       "      <th>max</th>\n",
       "      <td>1.0000</td>\n",
       "      <td>1.0000</td>\n",
       "      <td>1.0000</td>\n",
       "      <td>1.0000</td>\n",
       "      <td>1.0000</td>\n",
       "      <td>1.0000</td>\n",
       "      <td>1.0000</td>\n",
       "      <td>1.0000</td>\n",
       "      <td>1.0000</td>\n",
       "      <td>1.0000</td>\n",
       "      <td>...</td>\n",
       "      <td>1.0000</td>\n",
       "      <td>1.0000</td>\n",
       "      <td>1.0000</td>\n",
       "      <td>1.0000</td>\n",
       "      <td>1.0000</td>\n",
       "      <td>1.0000</td>\n",
       "      <td>1.0000</td>\n",
       "      <td>1.0000</td>\n",
       "      <td>1.0000</td>\n",
       "      <td>1.0000</td>\n",
       "    </tr>\n",
       "  </tbody>\n",
       "</table>\n",
       "<p>8 rows × 46 columns</p>\n",
       "</div>"
      ],
      "text/plain": [
       "          ALTITUD  Distancia_Pto_trafico1  Intensidad_Pto_trafico1  \\\n",
       "count  49254.0000              49254.0000               49254.0000   \n",
       "mean       0.5756                  0.2551                   0.1225   \n",
       "std        0.3165                  0.2755                   0.1355   \n",
       "min        0.0000                  0.0000                   0.0000   \n",
       "25%        0.3303                  0.0637                   0.0216   \n",
       "50%        0.6514                  0.1049                   0.0734   \n",
       "75%        0.8624                  0.3345                   0.1676   \n",
       "max        1.0000                  1.0000                   1.0000   \n",
       "\n",
       "       Intensidad_Pto_trafico2  Intensidad_Pto_trafico3  \\\n",
       "count               49254.0000               49254.0000   \n",
       "mean                    0.1576                   0.0152   \n",
       "std                     0.1598                   0.0255   \n",
       "min                     0.0000                   0.0000   \n",
       "25%                     0.0364                   0.0029   \n",
       "50%                     0.0990                   0.0088   \n",
       "75%                     0.2290                   0.0218   \n",
       "max                     1.0000                   1.0000   \n",
       "\n",
       "       Intensidad_Pto_trafico4  Intensidad_Pto_trafico5  Carga_Pto_trafico4  \\\n",
       "count               49254.0000               49254.0000          49254.0000   \n",
       "mean                    0.1269                   0.1803              0.2446   \n",
       "std                     0.1166                   0.1714              0.1897   \n",
       "min                     0.0000                   0.0000              0.0000   \n",
       "25%                     0.0269                   0.0315              0.0800   \n",
       "50%                     0.0887                   0.1339              0.2000   \n",
       "75%                     0.2079                   0.2805              0.3825   \n",
       "max                     1.0000                   1.0000              1.0000   \n",
       "\n",
       "       Carga_Pto_trafico3  Intensidad_mediaR1_500  ...       cloud  \\\n",
       "count          49254.0000              49254.0000  ...  49254.0000   \n",
       "mean               0.1958                  0.1469  ...      0.3238   \n",
       "std                0.1716                  0.1159  ...      0.3392   \n",
       "min                0.0000                  0.0000  ...      0.0000   \n",
       "25%                0.0600                  0.0547  ...      0.0300   \n",
       "50%                0.1425                  0.1232  ...      0.1800   \n",
       "75%                0.2900                  0.2121  ...      0.6100   \n",
       "max                1.0000                  1.0000  ...      1.0000   \n",
       "\n",
       "       feelslike_c  windchill_c  heatindex_c  dewpoint_c         mes  \\\n",
       "count   49254.0000   49254.0000   49254.0000  49254.0000  49254.0000   \n",
       "mean        0.3748       0.3534       0.3632      0.5020      0.4416   \n",
       "std         0.2072       0.1966       0.1964      0.1608      0.3941   \n",
       "min         0.0000       0.0000       0.0000      0.0000      0.0000   \n",
       "25%         0.2176       0.2050       0.2186      0.3865      0.0909   \n",
       "50%         0.3324       0.3130       0.3215      0.5000      0.2727   \n",
       "75%         0.5029       0.4737       0.4630      0.6206      0.9091   \n",
       "max         1.0000       1.0000       1.0000      1.0000      1.0000   \n",
       "\n",
       "              dia        hora   diasemana  Dir_viento_etiquetado  \n",
       "count  49254.0000  49254.0000  49254.0000             49254.0000  \n",
       "mean       0.4933      0.4991      0.4954                 0.5464  \n",
       "std        0.2909      0.3015      0.3347                 0.3410  \n",
       "min        0.0000      0.0000      0.0000                 0.0000  \n",
       "25%        0.2333      0.2174      0.1667                 0.3333  \n",
       "50%        0.5000      0.4783      0.5000                 0.6667  \n",
       "75%        0.7333      0.7391      0.8333                 0.6667  \n",
       "max        1.0000      1.0000      1.0000                 1.0000  \n",
       "\n",
       "[8 rows x 46 columns]"
      ]
     },
     "execution_count": 12,
     "metadata": {},
     "output_type": "execute_result"
    }
   ],
   "source": [
    "X_normal.describe().round(4)"
   ]
  },
  {
   "cell_type": "code",
   "execution_count": 13,
   "id": "76c6950b",
   "metadata": {
    "id": "76c6950b",
    "outputId": "81de0fd6-ae8c-4f6f-e78b-98cbbb4859f1"
   },
   "outputs": [
    {
     "data": {
      "image/png": "[encoded data removed]",
      "text/plain": [
       "<Figure size 2000x600 with 1 Axes>"
      ]
     },
     "metadata": {},
     "output_type": "display_data"
    }
   ],
   "source": [
    "# Graficar la distribución de los valores estandarizados\n",
    "plt.figure(figsize=(20,6))\n",
    "sns.boxplot(data=X_normal,  orient='v')\n",
    "plt.show()"
   ]
  },
  {
   "cell_type": "markdown",
   "id": "e796485d",
   "metadata": {
    "id": "e796485d"
   },
   "source": [
    "### **Paso 2.**  Dividir el dataset en Training y Test set"
   ]
  },
  {
   "cell_type": "code",
   "execution_count": 14,
   "id": "478e77b0",
   "metadata": {
    "id": "478e77b0"
   },
   "outputs": [],
   "source": [
    "# Separar los conjuntos de datos de entrenamiento (Training) y de prueba (Test) para las variables de entrada y salida\n",
    "from sklearn.model_selection import train_test_split\n",
    "X_train, X_test, y_train, y_test = train_test_split(X_normal, y, test_size=0.2, random_state=88)"
   ]
  },
  {
   "cell_type": "code",
   "execution_count": 15,
   "id": "d15c572c",
   "metadata": {
    "id": "d15c572c",
    "outputId": "baf8cfea-a3cb-422b-b469-bc020d701219"
   },
   "outputs": [
    {
     "name": "stdout",
     "output_type": "stream",
     "text": [
      "39403\n",
      "9851\n"
     ]
    },
    {
     "data": {
      "text/plain": [
       "49254"
      ]
     },
     "execution_count": 15,
     "metadata": {},
     "output_type": "execute_result"
    }
   ],
   "source": [
    "# \"test_size\" representa la proporción del conjunto de datos a incluir en la división de Test\n",
    "print(X_train.shape[0])\n",
    "print(X_test.shape[0])\n",
    "X_train.shape[0] + X_test.shape[0]"
   ]
  },
  {
   "cell_type": "markdown",
   "id": "0d77e581",
   "metadata": {
    "id": "0d77e581"
   },
   "source": [
    "#### **Paso 3.** Cargar y elegir el clasificador __Neural Netwok Classifier (MLPClassifier)__"
   ]
  },
  {
   "cell_type": "code",
   "execution_count": 16,
   "id": "017e9552",
   "metadata": {
    "id": "017e9552"
   },
   "outputs": [],
   "source": [
    "# Importar el módulo que corresponde al algoritmo\n",
    "from sklearn.neural_network import MLPClassifier\n",
    "\n",
    "# Asignar el algoritmo que vamos a aplicar \n",
    "clas_mlp = MLPClassifier(random_state=100)"
   ]
  },
  {
   "cell_type": "markdown",
   "id": "b77926f0",
   "metadata": {
    "id": "b77926f0"
   },
   "source": [
    "### **Paso 4.** Entrenar el modelo de clasificación Bayesiana con los datos de entrenamiento"
   ]
  },
  {
   "cell_type": "code",
   "execution_count": 17,
   "id": "e13ab632",
   "metadata": {
    "id": "e13ab632",
    "outputId": "56c9c29c-e182-4779-bf85-789a12926c77"
   },
   "outputs": [
    {
     "name": "stderr",
     "output_type": "stream",
     "text": [
      "/Users/sara/opt/anaconda3/lib/python3.9/site-packages/sklearn/neural_network/_multilayer_perceptron.py:692: ConvergenceWarning: Stochastic Optimizer: Maximum iterations (200) reached and the optimization hasn't converged yet.\n",
      "  warnings.warn(\n"
     ]
    },
    {
     "data": {
      "text/plain": [
       "MLPClassifier(random_state=100)"
      ]
     },
     "execution_count": 17,
     "metadata": {},
     "output_type": "execute_result"
    }
   ],
   "source": [
    "# Entrenar el modelo\n",
    "clas_mlp.fit(X_train, y_train)"
   ]
  },
  {
   "cell_type": "markdown",
   "id": "b13e3d75",
   "metadata": {
    "id": "b13e3d75"
   },
   "source": [
    "Ahora que el modelo está entrenado, sacamos las predicciones, analizamos los resultados y obtenemos algunas métricas del modelo basadas en el conjunto de datos de prueba. Según las métricas, podremos observar si el modelo clasificó correctamente todos los escenarios o no."
   ]
  },
  {
   "cell_type": "markdown",
   "id": "0627fc5f",
   "metadata": {
    "id": "0627fc5f"
   },
   "source": [
    "### **Paso 5.** Obtener las predicciones "
   ]
  },
  {
   "cell_type": "code",
   "execution_count": 18,
   "id": "d07473f4",
   "metadata": {
    "id": "d07473f4"
   },
   "outputs": [],
   "source": [
    "# Calcular las predicciones con el conjunto de prueba\n",
    "y_pred = clas_mlp.predict(X_test)"
   ]
  },
  {
   "cell_type": "code",
   "execution_count": 19,
   "id": "6c836bc8",
   "metadata": {
    "id": "6c836bc8",
    "outputId": "3275e636-f656-417b-aa99-19231df473d2"
   },
   "outputs": [
    {
     "name": "stdout",
     "output_type": "stream",
     "text": [
      "[1 1 1 ... 1 1 1]\n"
     ]
    }
   ],
   "source": [
    "# Imprimir la salida del modelo (los niveles de calidad del aire)\n",
    "print(y_pred)"
   ]
  },
  {
   "cell_type": "markdown",
   "id": "d0502286",
   "metadata": {
    "id": "d0502286"
   },
   "source": [
    "### **Paso 6.** Evaluación del modelo a través de sus métricas"
   ]
  },
  {
   "cell_type": "code",
   "execution_count": 20,
   "id": "0642e036",
   "metadata": {
    "id": "0642e036",
    "outputId": "c14d8286-6dce-4624-a3ae-afba26014b5c"
   },
   "outputs": [
    {
     "data": {
      "text/plain": [
       "0.9023449396000406"
      ]
     },
     "execution_count": 20,
     "metadata": {},
     "output_type": "execute_result"
    }
   ],
   "source": [
    "from sklearn.metrics import accuracy_score\n",
    "accuracy_score(y_test, y_pred)"
   ]
  },
  {
   "cell_type": "markdown",
   "id": "46049d1b",
   "metadata": {
    "id": "46049d1b"
   },
   "source": [
    "Existen otra serie de metricas para calificar los modelos de clasificación que se detallan a continuación. Algunas de estas medidas se resumen en un informe llamado **classification_report**."
   ]
  },
  {
   "cell_type": "code",
   "execution_count": 21,
   "id": "54fd7a08",
   "metadata": {
    "id": "54fd7a08",
    "outputId": "73d016ef-08b1-4ec5-b8fa-8f660fdb7880"
   },
   "outputs": [
    {
     "name": "stdout",
     "output_type": "stream",
     "text": [
      "              precision    recall  f1-score   support\n",
      "\n",
      "           0       0.84      0.74      0.79      2404\n",
      "           1       0.92      0.95      0.94      7447\n",
      "\n",
      "    accuracy                           0.90      9851\n",
      "   macro avg       0.88      0.85      0.86      9851\n",
      "weighted avg       0.90      0.90      0.90      9851\n",
      "\n"
     ]
    }
   ],
   "source": [
    "from sklearn.metrics import classification_report\n",
    "print(classification_report(y_test, y_pred))"
   ]
  },
  {
   "cell_type": "code",
   "execution_count": 22,
   "id": "784cf056",
   "metadata": {
    "id": "784cf056",
    "outputId": "96b080e3-3814-4dce-ac53-1d632671bc84"
   },
   "outputs": [
    {
     "data": {
      "image/png": "[encoded data removed]",
      "text/plain": [
       "<Figure size 1200x600 with 2 Axes>"
      ]
     },
     "metadata": {},
     "output_type": "display_data"
    }
   ],
   "source": [
    "from sklearn.metrics import confusion_matrix, ConfusionMatrixDisplay\n",
    "\n",
    "disp = ConfusionMatrixDisplay(confusion_matrix=confusion_matrix(y_test, y_pred),\n",
    "                               display_labels=clas_mlp.classes_)\n",
    "disp.plot()\n",
    "\n",
    "plt.show()"
   ]
  },
  {
   "cell_type": "code",
   "execution_count": 23,
   "id": "d7343b32",
   "metadata": {
    "id": "d7343b32",
    "outputId": "8e08dad5-f6e1-4e90-9338-d015c5169439"
   },
   "outputs": [
    {
     "data": {
      "text/plain": [
       "0.8480859862272427"
      ]
     },
     "execution_count": 23,
     "metadata": {},
     "output_type": "execute_result"
    }
   ],
   "source": [
    "# Calcular el área bajo la curva de funcionamiento del receptor\n",
    "from sklearn.metrics import roc_auc_score\n",
    "roc_auc_score(y_test, y_pred)"
   ]
  },
  {
   "cell_type": "code",
   "execution_count": 24,
   "id": "274db5dc",
   "metadata": {
    "id": "274db5dc",
    "outputId": "a3f59584-35a9-48f6-ef4c-b7a265f621b3"
   },
   "outputs": [
    {
     "data": {
      "image/png": "[encoded data removed]",
      "text/plain": [
       "<Figure size 1200x600 with 1 Axes>"
      ]
     },
     "metadata": {},
     "output_type": "display_data"
    }
   ],
   "source": [
    "# Graficar la curva ROC\n",
    "from sklearn.metrics import RocCurveDisplay\n",
    "\n",
    "RocCurveDisplay.from_predictions(y_test, y_pred)\n",
    "\n",
    "plt.show()"
   ]
  },
  {
   "cell_type": "markdown",
   "id": "2f979de7",
   "metadata": {
    "id": "2f979de7"
   },
   "source": [
    "Vamos a obtener más información acerca del modelo:"
   ]
  },
  {
   "cell_type": "code",
   "execution_count": 25,
   "id": "47462429",
   "metadata": {
    "id": "47462429",
    "outputId": "51bf6eb5-d084-4a09-bfb2-c4161e8b3f43"
   },
   "outputs": [
    {
     "data": {
      "text/plain": [
       "{'activation': 'relu',\n",
       " 'alpha': 0.0001,\n",
       " 'batch_size': 'auto',\n",
       " 'beta_1': 0.9,\n",
       " 'beta_2': 0.999,\n",
       " 'early_stopping': False,\n",
       " 'epsilon': 1e-08,\n",
       " 'hidden_layer_sizes': (100,),\n",
       " 'learning_rate': 'constant',\n",
       " 'learning_rate_init': 0.001,\n",
       " 'max_fun': 15000,\n",
       " 'max_iter': 200,\n",
       " 'momentum': 0.9,\n",
       " 'n_iter_no_change': 10,\n",
       " 'nesterovs_momentum': True,\n",
       " 'power_t': 0.5,\n",
       " 'random_state': 100,\n",
       " 'shuffle': True,\n",
       " 'solver': 'adam',\n",
       " 'tol': 0.0001,\n",
       " 'validation_fraction': 0.1,\n",
       " 'verbose': False,\n",
       " 'warm_start': False}"
      ]
     },
     "execution_count": 25,
     "metadata": {},
     "output_type": "execute_result"
    }
   ],
   "source": [
    "# Parámetros indicados en la definicón del modelo\n",
    "\n",
    "clas_mlp.get_params()"
   ]
  },
  {
   "cell_type": "code",
   "execution_count": 26,
   "id": "c3da63e4",
   "metadata": {
    "id": "c3da63e4",
    "outputId": "2b194f55-eb2a-4f7b-e523-7a7e8eb7003f"
   },
   "outputs": [
    {
     "data": {
      "text/plain": [
       "{'activation': 'relu',\n",
       " 'solver': 'adam',\n",
       " 'alpha': 0.0001,\n",
       " 'batch_size': 'auto',\n",
       " 'learning_rate': 'constant',\n",
       " 'learning_rate_init': 0.001,\n",
       " 'power_t': 0.5,\n",
       " 'max_iter': 200,\n",
       " 'loss': 'log_loss',\n",
       " 'hidden_layer_sizes': (100,),\n",
       " 'shuffle': True,\n",
       " 'random_state': 100,\n",
       " 'tol': 0.0001,\n",
       " 'verbose': False,\n",
       " 'warm_start': False,\n",
       " 'momentum': 0.9,\n",
       " 'nesterovs_momentum': True,\n",
       " 'early_stopping': False,\n",
       " 'validation_fraction': 0.1,\n",
       " 'beta_1': 0.9,\n",
       " 'beta_2': 0.999,\n",
       " 'epsilon': 1e-08,\n",
       " 'n_iter_no_change': 10,\n",
       " 'max_fun': 15000,\n",
       " 'feature_names_in_': array(['ALTITUD', 'Distancia_Pto_trafico1', 'Intensidad_Pto_trafico1',\n",
       "        'Intensidad_Pto_trafico2', 'Intensidad_Pto_trafico3',\n",
       "        'Intensidad_Pto_trafico4', 'Intensidad_Pto_trafico5',\n",
       "        'Carga_Pto_trafico4', 'Carga_Pto_trafico3',\n",
       "        'Intensidad_mediaR1_500', 'Intensidad_mediaR3_750_1000',\n",
       "        'Intensidad_mediaR6_2000', 'Intensidad_minR1_500',\n",
       "        'Intensidad_minR2_500_750', 'Intensidad_minR3_750_1000',\n",
       "        'Intensidad_maxR2_500_750', 'Intensidad_maxR3_750_1000',\n",
       "        'Intensidad_maxR4_1000_1500', 'Intensidad_maxR5_1500_2000',\n",
       "        'Intensidad_maxR6_2000', 'Carga_mediaR1_500',\n",
       "        'Carga_mediaR2_500_750', 'Carga_mediaR3_750_1000',\n",
       "        'Carga_mediaR4_1000_1500', 'Carga_mediaR5_1500_2000',\n",
       "        'Carga_mediaR6_2000', 'Carga_minR4_1000_1500',\n",
       "        'Carga_maxR4_1000_1500', 'Carga_maxR5_1500_2000', 'temp_c',\n",
       "        'is_day', 'wind_kph', 'wind_degree', 'pressure_mb', 'precip_mm',\n",
       "        'humidity', 'cloud', 'feelslike_c', 'windchill_c', 'heatindex_c',\n",
       "        'dewpoint_c', 'mes', 'dia', 'hora', 'diasemana',\n",
       "        'Dir_viento_etiquetado'], dtype=object),\n",
       " 'n_features_in_': 46,\n",
       " '_label_binarizer': LabelBinarizer(),\n",
       " 'classes_': array([0, 1]),\n",
       " 'n_outputs_': 1,\n",
       " '_random_state': RandomState(MT19937) at 0x7FBA00206940,\n",
       " 'n_iter_': 200,\n",
       " 't_': 7880600,\n",
       " 'n_layers_': 3,\n",
       " 'out_activation_': 'logistic',\n",
       " 'coefs_': [array([[ 5.39671062e-316,  2.19257532e-001,  1.78209435e-315, ...,\n",
       "          -7.56770553e-002, -5.26030262e-002,  7.26026070e-002],\n",
       "         [ 2.35192634e-316,  5.08404588e-002,  5.15612022e-316, ...,\n",
       "           3.73532393e-001,  7.65857140e-002, -2.20175336e-001],\n",
       "         [ 2.96694082e-315,  1.00321127e-002,  1.72839630e-315, ...,\n",
       "          -3.53080026e-001,  5.52604063e-001, -3.42199427e-002],\n",
       "         ...,\n",
       "         [-2.80139304e-315, -9.02540223e-002,  1.99999403e-315, ...,\n",
       "          -5.37206218e-002, -1.14401759e-001, -5.95144392e-001],\n",
       "         [-2.90982386e-315,  5.06973983e-003, -2.79882891e-315, ...,\n",
       "          -2.42060133e-001,  8.24963629e-001,  3.70805602e-001],\n",
       "         [-1.79687401e-315,  2.41354124e-001, -1.37940996e-315, ...,\n",
       "          -1.15142773e-001,  1.55491450e-001, -5.96707304e-001]]),\n",
       "  array([[ 1.68178270e-315],\n",
       "         [-1.56089444e-001],\n",
       "         [ 2.88565734e-315],\n",
       "         [ 2.45776525e+000],\n",
       "         [-1.11246090e+000],\n",
       "         [-2.39236033e+000],\n",
       "         [-2.67399680e-315],\n",
       "         [ 3.21675638e+000],\n",
       "         [ 1.66809457e+000],\n",
       "         [-3.61349627e+000],\n",
       "         [ 3.06701875e-001],\n",
       "         [-1.60760747e+000],\n",
       "         [ 6.89543756e-002],\n",
       "         [ 1.27301858e+000],\n",
       "         [ 9.67151986e-001],\n",
       "         [-1.90747045e+000],\n",
       "         [ 1.84301985e+000],\n",
       "         [-6.64808537e-001],\n",
       "         [-9.79635256e-001],\n",
       "         [ 1.51132696e-003],\n",
       "         [-4.97796172e-316],\n",
       "         [ 4.20701412e-001],\n",
       "         [ 9.52218183e-001],\n",
       "         [-1.39745680e+000],\n",
       "         [-1.98422306e+000],\n",
       "         [ 2.26362993e+000],\n",
       "         [-2.81866032e+000],\n",
       "         [ 1.95554998e+000],\n",
       "         [-5.36096989e-001],\n",
       "         [-1.81581576e+000],\n",
       "         [-1.38255120e-315],\n",
       "         [ 1.71158166e+000],\n",
       "         [-1.92126457e+000],\n",
       "         [ 1.66816956e+000],\n",
       "         [-2.12357701e-315],\n",
       "         [ 1.71099232e+000],\n",
       "         [ 1.89732101e+000],\n",
       "         [ 5.79876148e-001],\n",
       "         [-1.04830780e+000],\n",
       "         [-1.01488430e-001],\n",
       "         [ 1.03196026e+000],\n",
       "         [-1.36130104e+000],\n",
       "         [ 8.05115560e-001],\n",
       "         [ 2.35601016e+000],\n",
       "         [-1.65673761e+000],\n",
       "         [ 3.16376868e-001],\n",
       "         [-2.18403124e-002],\n",
       "         [-3.82026145e-001],\n",
       "         [ 3.65559236e-001],\n",
       "         [-3.42126514e-001],\n",
       "         [-1.35489181e+000],\n",
       "         [-1.72238366e+000],\n",
       "         [ 1.37850122e+000],\n",
       "         [ 4.01035039e+000],\n",
       "         [ 1.34350880e+000],\n",
       "         [ 5.39871533e-002],\n",
       "         [ 1.65000926e+000],\n",
       "         [ 6.99007905e-001],\n",
       "         [ 1.31697684e+000],\n",
       "         [-1.65829454e+000],\n",
       "         [-2.97317379e+000],\n",
       "         [ 1.43031883e-315],\n",
       "         [-9.35965617e-001],\n",
       "         [ 2.40690583e-001],\n",
       "         [ 2.34044712e+000],\n",
       "         [ 3.12707246e+000],\n",
       "         [ 6.48643100e-001],\n",
       "         [-7.56508601e-001],\n",
       "         [-9.46927546e-001],\n",
       "         [-5.76946215e-001],\n",
       "         [ 2.13173782e+000],\n",
       "         [ 1.45448273e+000],\n",
       "         [ 4.48580038e-001],\n",
       "         [-9.35557826e-001],\n",
       "         [-1.13758004e+000],\n",
       "         [ 3.12725723e-001],\n",
       "         [ 7.78034775e-002],\n",
       "         [ 7.09969568e-001],\n",
       "         [ 3.30930445e+000],\n",
       "         [ 2.22330311e-315],\n",
       "         [ 1.14543858e+000],\n",
       "         [ 1.31334038e+000],\n",
       "         [ 1.04892936e+000],\n",
       "         [ 3.34365025e-001],\n",
       "         [ 2.55551049e+000],\n",
       "         [-2.31652983e-001],\n",
       "         [ 7.65523295e-001],\n",
       "         [-8.60495955e-001],\n",
       "         [-1.04570166e+000],\n",
       "         [-1.68605826e-315],\n",
       "         [-1.00160623e+000],\n",
       "         [-3.29643681e+000],\n",
       "         [ 1.15447985e+000],\n",
       "         [-3.68817540e-001],\n",
       "         [ 6.28403927e-001],\n",
       "         [-2.67708811e-315],\n",
       "         [-2.76514460e+000],\n",
       "         [ 9.03320145e-001],\n",
       "         [ 1.18185155e+000],\n",
       "         [ 1.50762726e+000]])],\n",
       " 'intercepts_': [array([-0.18383013, -0.02282273, -0.09658747,  0.39938014, -0.0239327 ,\n",
       "         -0.09111096, -0.19845313,  0.01858063,  0.04765006, -0.10603569,\n",
       "         -0.00152382, -0.30553037, -0.03284146, -0.38823653, -0.39529289,\n",
       "          0.05361527,  0.22299436,  0.11366223,  0.11229214,  0.17352893,\n",
       "         -0.13008864, -0.17541367,  0.0034692 , -0.20912918, -0.19090686,\n",
       "         -0.49151395, -0.0202455 , -0.22106643,  0.19062148,  0.22169627,\n",
       "         -0.17896087,  0.04550157,  0.25221819, -0.15592315, -0.17918036,\n",
       "         -0.01354289,  0.39848901,  0.00214724,  0.07547321,  0.128562  ,\n",
       "          0.52914375,  0.02965376, -0.16066236,  0.29242922, -0.13748058,\n",
       "          0.11045555,  0.08529326,  0.09580627, -0.29599573, -0.19046274,\n",
       "          0.00496544,  0.14206157, -0.43021696,  0.34519327,  0.14182404,\n",
       "         -0.00164348, -0.19028959,  0.17608749, -0.32658498, -0.09109119,\n",
       "         -0.27585842, -0.19463657,  0.22143566, -0.13951205,  0.17896175,\n",
       "         -0.31720989, -0.05837405,  0.19162127,  0.03323021, -0.02017299,\n",
       "          0.09116239, -0.28849053,  0.11967442, -0.09788826, -0.0417787 ,\n",
       "         -0.07556917,  0.05530247,  0.03088367,  0.64406418, -0.18750173,\n",
       "         -0.1389216 ,  0.31556935,  0.05317895,  0.17490444,  0.07213074,\n",
       "          0.19712496, -0.08347337, -0.33260902,  0.07466406, -0.06878446,\n",
       "          0.39539062,  0.04939455,  0.16214706, -0.03095077, -0.09608648,\n",
       "         -0.05537119,  0.38145004,  0.42428036, -0.1938533 , -0.03997305]),\n",
       "  array([-0.25305947])],\n",
       " 'loss_curve_': [0.4417223458040744,\n",
       "  0.3685270322713958,\n",
       "  0.34426562337245026,\n",
       "  0.33536353666109553,\n",
       "  0.32797418647039506,\n",
       "  0.32272929472702894,\n",
       "  0.3186333049958909,\n",
       "  0.3140043840297425,\n",
       "  0.3100769857881207,\n",
       "  0.306009046518656,\n",
       "  0.30235723992110153,\n",
       "  0.2988194891716884,\n",
       "  0.29529564300942884,\n",
       "  0.2927959730842275,\n",
       "  0.2907999420739977,\n",
       "  0.28738408428314965,\n",
       "  0.28528103074115024,\n",
       "  0.28558470303858635,\n",
       "  0.2804784258005166,\n",
       "  0.2790654327593163,\n",
       "  0.2784176104999129,\n",
       "  0.2765759568739835,\n",
       "  0.274213023434027,\n",
       "  0.27449768041019,\n",
       "  0.27151386971936686,\n",
       "  0.270885913906734,\n",
       "  0.2693170881998009,\n",
       "  0.26958749685900996,\n",
       "  0.26669702767546843,\n",
       "  0.2666970941384879,\n",
       "  0.264905101016331,\n",
       "  0.26360358208352014,\n",
       "  0.26368432678350234,\n",
       "  0.2619640416647697,\n",
       "  0.2622091355892185,\n",
       "  0.2599572265379078,\n",
       "  0.2595383977665,\n",
       "  0.25940076696101216,\n",
       "  0.25842210422800854,\n",
       "  0.2570643426750776,\n",
       "  0.256262590580597,\n",
       "  0.2552762625540865,\n",
       "  0.2578337019270424,\n",
       "  0.25557541103374554,\n",
       "  0.2532285001158547,\n",
       "  0.25226602347569216,\n",
       "  0.2538205875300609,\n",
       "  0.2514052204870974,\n",
       "  0.25164162725155814,\n",
       "  0.2509321024724063,\n",
       "  0.24886524878479774,\n",
       "  0.24892786702207567,\n",
       "  0.24791350300045203,\n",
       "  0.24859312492601968,\n",
       "  0.2469912556805414,\n",
       "  0.24670622580680027,\n",
       "  0.2468789173046998,\n",
       "  0.2453977775820088,\n",
       "  0.24748581380503498,\n",
       "  0.2474923189522581,\n",
       "  0.2458779068747426,\n",
       "  0.24420402359604604,\n",
       "  0.24280497821467306,\n",
       "  0.24373975074182003,\n",
       "  0.24254500064523452,\n",
       "  0.2425149928067449,\n",
       "  0.24464474559900715,\n",
       "  0.24103117582598177,\n",
       "  0.2408788534718762,\n",
       "  0.240637548608709,\n",
       "  0.24021762890723264,\n",
       "  0.23922164825490888,\n",
       "  0.24045676521575665,\n",
       "  0.23797134938695835,\n",
       "  0.2390503922975912,\n",
       "  0.24189819773008925,\n",
       "  0.23775003427483046,\n",
       "  0.23749954515113844,\n",
       "  0.2379676687865382,\n",
       "  0.2362381763799456,\n",
       "  0.23537938283227505,\n",
       "  0.2352331412712156,\n",
       "  0.23567928354017145,\n",
       "  0.2344715281245923,\n",
       "  0.23418331898940908,\n",
       "  0.23369559672156154,\n",
       "  0.23377384516193297,\n",
       "  0.2333017932588798,\n",
       "  0.23323376423853254,\n",
       "  0.2319553114230286,\n",
       "  0.23183743483588415,\n",
       "  0.23177464971862802,\n",
       "  0.23127508183778325,\n",
       "  0.23188930629295687,\n",
       "  0.2309222775555819,\n",
       "  0.22962756613725138,\n",
       "  0.22981752957737886,\n",
       "  0.22865455458069453,\n",
       "  0.22866987021789914,\n",
       "  0.22919670116335814,\n",
       "  0.2279992574605261,\n",
       "  0.22680154888377596,\n",
       "  0.2267123569378497,\n",
       "  0.2291010007331111,\n",
       "  0.2270834549786042,\n",
       "  0.22704826113380175,\n",
       "  0.22551442251525522,\n",
       "  0.2257220006674207,\n",
       "  0.2260374730985668,\n",
       "  0.224336245481926,\n",
       "  0.2243006017605793,\n",
       "  0.22381887545339052,\n",
       "  0.2228741874750904,\n",
       "  0.2227583435239398,\n",
       "  0.22746134100927531,\n",
       "  0.22275602957440632,\n",
       "  0.2223763175176253,\n",
       "  0.22179580569648152,\n",
       "  0.22242135309070246,\n",
       "  0.22057097003524057,\n",
       "  0.22015127655481165,\n",
       "  0.22014702867145639,\n",
       "  0.22305345958979886,\n",
       "  0.22214272302205337,\n",
       "  0.21937547877409225,\n",
       "  0.22114844769170108,\n",
       "  0.21979860018151398,\n",
       "  0.21853937761827785,\n",
       "  0.21785149168848872,\n",
       "  0.21777422247128742,\n",
       "  0.21824311821714562,\n",
       "  0.2204881608268739,\n",
       "  0.2176274735473939,\n",
       "  0.22010599759997693,\n",
       "  0.21793291267152656,\n",
       "  0.21679023267565686,\n",
       "  0.21931934961718766,\n",
       "  0.215769313254598,\n",
       "  0.22115043267140763,\n",
       "  0.2152748593497224,\n",
       "  0.21520309450392497,\n",
       "  0.21558167877934997,\n",
       "  0.21431103536002705,\n",
       "  0.2164115232967018,\n",
       "  0.21431920967592952,\n",
       "  0.2145967868119822,\n",
       "  0.21550665206588607,\n",
       "  0.21513703713941104,\n",
       "  0.21681842635248133,\n",
       "  0.21311245305220738,\n",
       "  0.21810303275283593,\n",
       "  0.2120826993740938,\n",
       "  0.21474682862147504,\n",
       "  0.21134890584719745,\n",
       "  0.21277513810201598,\n",
       "  0.2111703261671107,\n",
       "  0.21504386736338346,\n",
       "  0.2105826442263778,\n",
       "  0.21065747017133457,\n",
       "  0.21127329209795215,\n",
       "  0.21340835775073777,\n",
       "  0.21103059012588748,\n",
       "  0.2172385103049146,\n",
       "  0.21007893938063676,\n",
       "  0.21026367618765976,\n",
       "  0.2098837909574383,\n",
       "  0.20963700054232376,\n",
       "  0.20932175934590946,\n",
       "  0.20868250568179642,\n",
       "  0.21398592935329655,\n",
       "  0.20878960632038557,\n",
       "  0.20859585563218822,\n",
       "  0.20922974642317757,\n",
       "  0.2080829217111043,\n",
       "  0.2076014831084146,\n",
       "  0.20867048964653265,\n",
       "  0.2095116160504365,\n",
       "  0.207045330247782,\n",
       "  0.20727055442272102,\n",
       "  0.20682385621711655,\n",
       "  0.20635404325276768,\n",
       "  0.2067202695483262,\n",
       "  0.20680930114432308,\n",
       "  0.2060206233754838,\n",
       "  0.20604367736161308,\n",
       "  0.2057827029904705,\n",
       "  0.20525781137984297,\n",
       "  0.20581607113844064,\n",
       "  0.20382037975577333,\n",
       "  0.20455306145157534,\n",
       "  0.20444687386656843,\n",
       "  0.20399531320962672,\n",
       "  0.2049304826061969,\n",
       "  0.20592044409571797,\n",
       "  0.20395686803662702,\n",
       "  0.2054093144162578,\n",
       "  0.2039030128162487,\n",
       "  0.20313066706642385,\n",
       "  0.2020463915186446,\n",
       "  0.20295397055915312],\n",
       " '_no_improvement_count': 1,\n",
       " 'best_loss_': 0.2020463915186446,\n",
       " '_optimizer': <sklearn.neural_network._stochastic_optimizers.AdamOptimizer at 0x7fb9e192fd90>,\n",
       " 'loss_': 0.20295397055915312,\n",
       " '_sklearn_version': '1.0.2'}"
      ]
     },
     "execution_count": 26,
     "metadata": {},
     "output_type": "execute_result"
    }
   ],
   "source": [
    "# Sacar diferentes parámetros del modelo que se ha entrenado\n",
    "clas_mlp.__getstate__()"
   ]
  },
  {
   "cell_type": "code",
   "execution_count": 27,
   "id": "ed37cc53",
   "metadata": {
    "id": "ed37cc53",
    "outputId": "c0a05faa-ce68-4c97-86e8-1b909d3c022d"
   },
   "outputs": [
    {
     "data": {
      "image/png": "[encoded data removed]",
      "text/plain": [
       "<Figure size 1200x600 with 1 Axes>"
      ]
     },
     "metadata": {},
     "output_type": "display_data"
    }
   ],
   "source": [
    "# Se puede consultar incluso el coste (la métrica de error) y su evolución durante las iteraciones de entrenamiento\n",
    "plt.plot(clas_mlp.loss_curve_)\n",
    "plt.title(\"Loss Curve\", fontsize=14)\n",
    "plt.xlabel('Iterations')\n",
    "plt.ylabel('Loss')\n",
    "plt.show()"
   ]
  },
  {
   "cell_type": "markdown",
   "id": "0a1b81f2",
   "metadata": {
    "id": "0a1b81f2"
   },
   "source": [
    "Se puede apreciar que las redes neuronales artificiales disponesn de muchos ajustes y por lo tanto tienen **diversos hiperparámetros** como: \n",
    "\n",
    "* ``hidden_layer_sizes``: tupla, longitud = n_capas - 2, predeterminado = (100,). El i-ésimo elemento representa el número de neuronas en la i-ésima capa oculta.\n",
    "* ``activation``:  {'identity', 'logistic', 'tanh', 'relu'}, predeterminado = 'relu'. La función de activación para las capas ocultas.\n",
    "* ``solver``:  {'lbfgs', 'sgd', 'adam'}, predeterminado = 'adam'. El solucionador para la optimización del peso.\n",
    "* ``max_iter``: int, predeterminado = 200. Número máximo de iteraciones. \n",
    "* ``alpha``: float, predeterminado = 0.0001. Parámetro de penalización L2 (término de regularización).\n",
    "* ``tol``: float, predeterminado = 1e-4. Tolerancia para la optimización. Cuando la pérdida o la puntuación no mejoran al menos ``tol`` en ``n_iter_no_change`` iteraciones consecutivas se considera que se ha alcanzado la convergencia y se detiene el entrenamiento."
   ]
  },
  {
   "cell_type": "markdown",
   "id": "23a622f3",
   "metadata": {
    "id": "23a622f3"
   },
   "source": [
    "\n",
    "Procedemos a modificar un par de estos valores y volver a generar una red distinta: "
   ]
  },
  {
   "cell_type": "code",
   "execution_count": 28,
   "id": "e508b204",
   "metadata": {
    "id": "e508b204",
    "outputId": "e8f48501-3b56-4f35-bebf-12c71fa580f9"
   },
   "outputs": [
    {
     "name": "stdout",
     "output_type": "stream",
     "text": [
      "Acuuracy: 0.919703583392549\n",
      "              precision    recall  f1-score   support\n",
      "\n",
      "           0       0.84      0.82      0.83      2404\n",
      "           1       0.94      0.95      0.95      7447\n",
      "\n",
      "    accuracy                           0.92      9851\n",
      "   macro avg       0.89      0.89      0.89      9851\n",
      "weighted avg       0.92      0.92      0.92      9851\n",
      "\n",
      "AUC: 0.8871728489758016\n"
     ]
    }
   ],
   "source": [
    "# Definimos otra red modificando los valores por defecto de algunos hiperparámetros\n",
    "red_mlp = MLPClassifier(hidden_layer_sizes=(100,200,100),\n",
    "                        max_iter=10000,\n",
    "                        alpha=1e-5,\n",
    "                        tol=1e-5,\n",
    "                        random_state=100)\n",
    "\n",
    "\n",
    "# Ajustamos el algoritmo al conjunto de datos de entrenamiento\n",
    "red_mlp.fit(X_train, y_train)\n",
    "\n",
    "# lanzamos las predicciones (para el conjunto de test que son los datos no vistos por el algoritmo en la fase de modelización)\n",
    "y_pred_mlp = red_mlp.predict(X_test)\n",
    "\n",
    "print('Acuuracy:', accuracy_score(y_test, y_pred_mlp))\n",
    "\n",
    "print(classification_report(y_test, y_pred_mlp))\n",
    "\n",
    "print('AUC:', roc_auc_score(y_test, y_pred_mlp))"
   ]
  },
  {
   "cell_type": "code",
   "execution_count": 29,
   "id": "e14c1870",
   "metadata": {
    "id": "e14c1870",
    "outputId": "786dfeb8-3b60-43a5-db02-6db4cef30d8a"
   },
   "outputs": [
    {
     "data": {
      "image/png": "[encoded data removed]",
      "text/plain": [
       "<Figure size 1200x600 with 1 Axes>"
      ]
     },
     "metadata": {},
     "output_type": "display_data"
    }
   ],
   "source": [
    "# Graficar la curva ROC\n",
    "from sklearn.metrics import RocCurveDisplay\n",
    "\n",
    "RocCurveDisplay.from_predictions(y_test, y_pred_mlp)\n",
    "\n",
    "plt.show()"
   ]
  },
  {
   "cell_type": "code",
   "execution_count": 30,
   "id": "e88a9e84",
   "metadata": {
    "id": "e88a9e84",
    "outputId": "285cb2d6-f2b5-4227-9558-d76ac526bd4b"
   },
   "outputs": [
    {
     "data": {
      "image/png": "[encoded data removed]",
      "text/plain": [
       "<Figure size 1200x600 with 1 Axes>"
      ]
     },
     "metadata": {},
     "output_type": "display_data"
    }
   ],
   "source": [
    "# Se puede consultar incluso el coste (la métrica de error) y su evolución durante las iteraciones de entrenamiento\n",
    "plt.plot(red_mlp.loss_curve_)\n",
    "plt.title(\"Loss Curve\", fontsize=14)\n",
    "plt.xlabel('Iterations')\n",
    "plt.ylabel('Loss')\n",
    "plt.show()"
   ]
  },
  {
   "cell_type": "markdown",
   "id": "07fce89a",
   "metadata": {
    "id": "07fce89a"
   },
   "source": [
    "---"
   ]
  },
  {
   "cell_type": "markdown",
   "id": "1a2acb34",
   "metadata": {
    "id": "1a2acb34"
   },
   "source": [
    "## Clasificación con Redes Neuronales profundas mediante ___Keras___"
   ]
  },
  {
   "cell_type": "markdown",
   "id": "9231e4d0",
   "metadata": {
    "id": "9231e4d0"
   },
   "source": [
    "**[Keras](https://keras.io/)** es una librería de Python de código abierto (con licencia MIT) para facilitar el desarrollo de los modelos de __Deep Learning__. _Keras_ es un paquete ___minimalista___ que su principal objetivo es acelerar la generación de redes neuronales profundas.\n",
    " _Keras_ funciona como una _interfaz de uso intuitivo_ (__API__) que permite __acceder y trabajar a alto nivel__ con varios frameworks como _Theano_ y sobre todo __`TensorFlow`__.\n",
    " \n",
    "_Keras_ se puede ejecutar sin problema sobre las CPU y también contra las __GPU__ que aumentan la eficiencia computacional en muchos casos.  En lugar de instalar los paquetes por separado, el enfoque recomendado es __instalar _Keras_ como parte de la instalación de _TensorFlow___. A partir de la versión 2.0, cuando instala _TensorFlow_, Keras también se instalará automáticamente."
   ]
  },
  {
   "cell_type": "code",
   "execution_count": 31,
   "id": "2e196e4d",
   "metadata": {
    "id": "2e196e4d",
    "outputId": "4e276556-c0f8-4897-ddd6-6cc11173ed9d"
   },
   "outputs": [
    {
     "name": "stdout",
     "output_type": "stream",
     "text": [
      "Requirement already satisfied: tensorflow in /Users/sara/opt/anaconda3/lib/python3.9/site-packages (2.11.0)\n",
      "Requirement already satisfied: absl-py>=1.0.0 in /Users/sara/opt/anaconda3/lib/python3.9/site-packages (from tensorflow) (1.4.0)\n",
      "Requirement already satisfied: h5py>=2.9.0 in /Users/sara/opt/anaconda3/lib/python3.9/site-packages (from tensorflow) (3.7.0)\n",
      "Requirement already satisfied: setuptools in /Users/sara/opt/anaconda3/lib/python3.9/site-packages (from tensorflow) (63.4.1)\n",
      "Requirement already satisfied: six>=1.12.0 in /Users/sara/opt/anaconda3/lib/python3.9/site-packages (from tensorflow) (1.16.0)\n",
      "Requirement already satisfied: numpy>=1.20 in /Users/sara/opt/anaconda3/lib/python3.9/site-packages (from tensorflow) (1.21.5)\n",
      "Requirement already satisfied: tensorflow-io-gcs-filesystem>=0.23.1 in /Users/sara/opt/anaconda3/lib/python3.9/site-packages (from tensorflow) (0.31.0)\n",
      "Requirement already satisfied: astunparse>=1.6.0 in /Users/sara/opt/anaconda3/lib/python3.9/site-packages (from tensorflow) (1.6.3)\n",
      "Requirement already satisfied: gast<=0.4.0,>=0.2.1 in /Users/sara/opt/anaconda3/lib/python3.9/site-packages (from tensorflow) (0.4.0)\n",
      "Requirement already satisfied: google-pasta>=0.1.1 in /Users/sara/opt/anaconda3/lib/python3.9/site-packages (from tensorflow) (0.2.0)\n",
      "Requirement already satisfied: opt-einsum>=2.3.2 in /Users/sara/opt/anaconda3/lib/python3.9/site-packages (from tensorflow) (3.3.0)\n",
      "Requirement already satisfied: keras<2.12,>=2.11.0 in /Users/sara/opt/anaconda3/lib/python3.9/site-packages (from tensorflow) (2.11.0)\n",
      "Requirement already satisfied: protobuf<3.20,>=3.9.2 in /Users/sara/opt/anaconda3/lib/python3.9/site-packages (from tensorflow) (3.19.6)\n",
      "Requirement already satisfied: grpcio<2.0,>=1.24.3 in /Users/sara/opt/anaconda3/lib/python3.9/site-packages (from tensorflow) (1.51.3)\n",
      "Requirement already satisfied: tensorboard<2.12,>=2.11 in /Users/sara/opt/anaconda3/lib/python3.9/site-packages (from tensorflow) (2.11.2)\n",
      "Requirement already satisfied: wrapt>=1.11.0 in /Users/sara/opt/anaconda3/lib/python3.9/site-packages (from tensorflow) (1.14.1)\n",
      "Requirement already satisfied: flatbuffers>=2.0 in /Users/sara/opt/anaconda3/lib/python3.9/site-packages (from tensorflow) (23.3.3)\n",
      "Requirement already satisfied: packaging in /Users/sara/opt/anaconda3/lib/python3.9/site-packages (from tensorflow) (21.3)\n",
      "Requirement already satisfied: termcolor>=1.1.0 in /Users/sara/opt/anaconda3/lib/python3.9/site-packages (from tensorflow) (2.2.0)\n",
      "Requirement already satisfied: libclang>=13.0.0 in /Users/sara/opt/anaconda3/lib/python3.9/site-packages (from tensorflow) (15.0.6.1)\n",
      "Requirement already satisfied: tensorflow-estimator<2.12,>=2.11.0 in /Users/sara/opt/anaconda3/lib/python3.9/site-packages (from tensorflow) (2.11.0)\n",
      "Requirement already satisfied: typing-extensions>=3.6.6 in /Users/sara/opt/anaconda3/lib/python3.9/site-packages (from tensorflow) (4.3.0)\n",
      "Requirement already satisfied: wheel<1.0,>=0.23.0 in /Users/sara/opt/anaconda3/lib/python3.9/site-packages (from astunparse>=1.6.0->tensorflow) (0.37.1)\n",
      "Requirement already satisfied: google-auth-oauthlib<0.5,>=0.4.1 in /Users/sara/opt/anaconda3/lib/python3.9/site-packages (from tensorboard<2.12,>=2.11->tensorflow) (0.4.6)\n",
      "Requirement already satisfied: werkzeug>=1.0.1 in /Users/sara/opt/anaconda3/lib/python3.9/site-packages (from tensorboard<2.12,>=2.11->tensorflow) (2.0.3)\n",
      "Requirement already satisfied: google-auth<3,>=1.6.3 in /Users/sara/opt/anaconda3/lib/python3.9/site-packages (from tensorboard<2.12,>=2.11->tensorflow) (2.16.2)\n",
      "Requirement already satisfied: tensorboard-data-server<0.7.0,>=0.6.0 in /Users/sara/opt/anaconda3/lib/python3.9/site-packages (from tensorboard<2.12,>=2.11->tensorflow) (0.6.1)\n",
      "Requirement already satisfied: requests<3,>=2.21.0 in /Users/sara/opt/anaconda3/lib/python3.9/site-packages (from tensorboard<2.12,>=2.11->tensorflow) (2.28.1)\n",
      "Requirement already satisfied: tensorboard-plugin-wit>=1.6.0 in /Users/sara/opt/anaconda3/lib/python3.9/site-packages (from tensorboard<2.12,>=2.11->tensorflow) (1.8.1)\n",
      "Requirement already satisfied: markdown>=2.6.8 in /Users/sara/opt/anaconda3/lib/python3.9/site-packages (from tensorboard<2.12,>=2.11->tensorflow) (3.3.4)\n",
      "Requirement already satisfied: pyparsing!=3.0.5,>=2.0.2 in /Users/sara/opt/anaconda3/lib/python3.9/site-packages (from packaging->tensorflow) (3.0.9)\n",
      "Requirement already satisfied: cachetools<6.0,>=2.0.0 in /Users/sara/opt/anaconda3/lib/python3.9/site-packages (from google-auth<3,>=1.6.3->tensorboard<2.12,>=2.11->tensorflow) (5.3.0)\n",
      "Requirement already satisfied: rsa<5,>=3.1.4 in /Users/sara/opt/anaconda3/lib/python3.9/site-packages (from google-auth<3,>=1.6.3->tensorboard<2.12,>=2.11->tensorflow) (4.9)\n",
      "Requirement already satisfied: pyasn1-modules>=0.2.1 in /Users/sara/opt/anaconda3/lib/python3.9/site-packages (from google-auth<3,>=1.6.3->tensorboard<2.12,>=2.11->tensorflow) (0.2.8)\n",
      "Requirement already satisfied: requests-oauthlib>=0.7.0 in /Users/sara/opt/anaconda3/lib/python3.9/site-packages (from google-auth-oauthlib<0.5,>=0.4.1->tensorboard<2.12,>=2.11->tensorflow) (1.3.1)\n",
      "Requirement already satisfied: idna<4,>=2.5 in /Users/sara/opt/anaconda3/lib/python3.9/site-packages (from requests<3,>=2.21.0->tensorboard<2.12,>=2.11->tensorflow) (3.3)\n",
      "Requirement already satisfied: certifi>=2017.4.17 in /Users/sara/opt/anaconda3/lib/python3.9/site-packages (from requests<3,>=2.21.0->tensorboard<2.12,>=2.11->tensorflow) (2022.9.24)\n",
      "Requirement already satisfied: charset-normalizer<3,>=2 in /Users/sara/opt/anaconda3/lib/python3.9/site-packages (from requests<3,>=2.21.0->tensorboard<2.12,>=2.11->tensorflow) (2.0.4)\n",
      "Requirement already satisfied: urllib3<1.27,>=1.21.1 in /Users/sara/opt/anaconda3/lib/python3.9/site-packages (from requests<3,>=2.21.0->tensorboard<2.12,>=2.11->tensorflow) (1.26.11)\n",
      "Requirement already satisfied: pyasn1<0.5.0,>=0.4.6 in /Users/sara/opt/anaconda3/lib/python3.9/site-packages (from pyasn1-modules>=0.2.1->google-auth<3,>=1.6.3->tensorboard<2.12,>=2.11->tensorflow) (0.4.8)\n",
      "Requirement already satisfied: oauthlib>=3.0.0 in /Users/sara/opt/anaconda3/lib/python3.9/site-packages (from requests-oauthlib>=0.7.0->google-auth-oauthlib<0.5,>=0.4.1->tensorboard<2.12,>=2.11->tensorflow) (3.2.2)\n",
      "Note: you may need to restart the kernel to use updated packages.\n"
     ]
    }
   ],
   "source": [
    "pip install tensorflow"
   ]
  },
  {
   "cell_type": "markdown",
   "id": "40c564c2",
   "metadata": {
    "id": "40c564c2"
   },
   "source": [
    "Podemos __importar__ y acceder a las funciones y los métodos de _Keras_ usando dos enfoques distintos:  \n",
    "\n",
    "- mediante la librería ___Keras___ \n",
    "- A través de ___Tensorflow___\n",
    "\n",
    "Lo importante es __ser consistente en todo el código__ que desarrollamos y usar la mism manera cada vez que importamos los objetos y las funciones de _Keras_ para evitar confusiones y hacer que el código sea más fácil de leer."
   ]
  },
  {
   "cell_type": "code",
   "execution_count": null,
   "id": "0f219eaa",
   "metadata": {
    "id": "0f219eaa",
    "outputId": "c67feed7-959a-404b-d665-031d58da1ca6"
   },
   "outputs": [],
   "source": [
    "import keras\n",
    "print(keras.__version__)"
   ]
  },
  {
   "cell_type": "code",
   "execution_count": null,
   "id": "f0444589",
   "metadata": {
    "id": "f0444589",
    "outputId": "f499f594-8f2f-467f-cc14-68a2ce260204"
   },
   "outputs": [],
   "source": [
    "import tensorflow\n",
    "print(tensorflow.keras.__version__)"
   ]
  },
  {
   "cell_type": "code",
   "execution_count": null,
   "id": "c4726eae",
   "metadata": {
    "id": "c4726eae",
    "outputId": "0b410a92-8f45-44bd-ae9c-5d6a2774f8c5",
    "tags": []
   },
   "outputs": [],
   "source": [
    "from tensorflow import keras as ks\n",
    "print(ks.__version__)"
   ]
  },
  {
   "cell_type": "markdown",
   "id": "76d8a4de",
   "metadata": {
    "id": "76d8a4de"
   },
   "source": [
    "_Keras_ como es de esperar y acorde con sus objetivos, tiene un __enfoque muy práctico__ a la hora de definir, compilar y ajustar las redes neuronales profundas. Principalmente se construyen las redes mediante modelos con una secuencia de capas, llamada tipo __`Secuencial`__."
   ]
  },
  {
   "cell_type": "code",
   "execution_count": null,
   "id": "329c213f",
   "metadata": {
    "id": "329c213f",
    "outputId": "99547a5a-330c-4a07-d2ac-8070ac3b9b2e"
   },
   "outputs": [],
   "source": [
    "from keras.models import Sequential\n",
    "\n",
    "# Declarar el modelo que se va a crear\n",
    "modelo_ks = Sequential()\n",
    "modelo_ks"
   ]
  },
  {
   "cell_type": "markdown",
   "id": "3ed83910",
   "metadata": {
    "id": "3ed83910"
   },
   "source": [
    "Después de instanciar un modelo de la clase `Sequential`, debemos indicar **la capa de entrada (Input Layer)** que recibe los **valores que se vienen dado al inico** de una observación considerando como un **estímulo inicial**. Lógicamente, el número de las _variables de entrada (__features__)_ determina el tamaño de esta capa. "
   ]
  },
  {
   "cell_type": "code",
   "execution_count": null,
   "id": "e5e09461",
   "metadata": {
    "id": "e5e09461",
    "outputId": "1c26518a-2c57-4f40-c139-6ae3eff88ca4"
   },
   "outputs": [],
   "source": [
    "# La dimensión de las observaciones\n",
    "X_train.shape"
   ]
  },
  {
   "cell_type": "code",
   "execution_count": null,
   "id": "f0e51a28",
   "metadata": {
    "id": "f0e51a28"
   },
   "outputs": [],
   "source": [
    "from keras import Input\n",
    "\n",
    "modelo_ks.add(Input(shape=(X_train.shape[1],)))"
   ]
  },
  {
   "cell_type": "markdown",
   "id": "7d629b10",
   "metadata": {
    "id": "7d629b10"
   },
   "source": [
    "Después, se van añadiendo más capas en __el orden deseado__. Por ahora, utilizamos un tipo de capa llamada _capa densa (__Dense__)_ o completamente conectada. Una capa densa tiene una **cantidad específica de neuronas**, que es un parámetro que se eleige en la definición de la capa. \n",
    "\n",
    "Este tipo de capas son las **más comunes** y se les conoce como _completamente conectada (__Fully-Connected__)_ porque cada neurona en la capa densa obtiene una conexión con todas las neuronas de entrada o de la capa anterior y todas las neuronas de salida o de la capa posterior. "
   ]
  },
  {
   "cell_type": "markdown",
   "id": "42bed7ef",
   "metadata": {
    "id": "42bed7ef"
   },
   "source": [
    "![image.png](attachment:image.png)"
   ]
  },
  {
   "cell_type": "markdown",
   "id": "8649d3f5",
   "metadata": {
    "id": "8649d3f5"
   },
   "source": [
    "Se indican las __funciones de activación__ que se aplicarán a cada capa: "
   ]
  },
  {
   "cell_type": "markdown",
   "id": "27844408",
   "metadata": {
    "id": "27844408"
   },
   "source": []
  },
  {
   "cell_type": "code",
   "execution_count": null,
   "id": "c8fe7fb8",
   "metadata": {
    "id": "c8fe7fb8"
   },
   "outputs": [],
   "source": [
    "from keras.layers import Dense\n",
    "\n",
    "# Añadir las capas ocultas (Hidden Layers)\n",
    "modelo_ks.add(Dense(100, activation='relu'))\n",
    "modelo_ks.add(Dense(200, activation='relu'))\n",
    "modelo_ks.add(Dense(100, activation='relu'))"
   ]
  },
  {
   "cell_type": "markdown",
   "id": "016205d8",
   "metadata": {
    "id": "016205d8"
   },
   "source": [
    "Finalmente se define la última capa o la __capa de salida (Output Layer)__ que debe tener el tamaño de la salida del modelo."
   ]
  },
  {
   "cell_type": "code",
   "execution_count": null,
   "id": "0adfe86e",
   "metadata": {
    "id": "0adfe86e"
   },
   "outputs": [],
   "source": [
    "# Definir la capa final (Ouput Layer)\n",
    "modelo_ks.add(Dense(1, activation='sigmoid'))"
   ]
  },
  {
   "cell_type": "markdown",
   "id": "1cc8f252",
   "metadata": {
    "id": "1cc8f252"
   },
   "source": [
    "![image.png](attachment:image.png)\n"
   ]
  },
  {
   "cell_type": "markdown",
   "id": "8c975f17",
   "metadata": {
    "id": "8c975f17"
   },
   "source": [
    "Una vez definida la estructura de la red, se __compila__ el modelo especificando una serie de __hiperparámetros__ como:\n",
    "\n",
    "* ``loss``: La medida de __error__ o __la función de pérdida (Loss function)__. Por defecto se suele seleccionar `'binary_crossentropy'` que se conoce como ___log-loss___ o la entropía cruzada (_Cross-entropy_) que resume **la diferencia promedio entre las distribuciones de probabilidad real y predicha** para predecir la clase primera clase.  \n",
    " \n",
    "* ``optimizer``: El algoritmo de optimización. se utiliza comunmente `'Adam'` como el algoritmo de descenso de gradiente estocástico (___stochastic gradient descent___) con una eficiencia considerable.\n",
    "* ``metrics``:  Añade una **lista de métricas** para que el modelo las evalúe durante el entrenamiento, pero que **no influyan en el entrenamiento**. Se utiliza principàlmente `'accuracy'` entre cualquier otra métrica de clasificación en este caso."
   ]
  },
  {
   "cell_type": "code",
   "execution_count": null,
   "id": "d7f901c6",
   "metadata": {
    "id": "d7f901c6"
   },
   "outputs": [],
   "source": [
    "# Compilar e indicar los ajustes del modelo\n",
    "modelo_ks.compile(loss='binary_crossentropy', optimizer='Adam', metrics=['accuracy'])"
   ]
  },
  {
   "cell_type": "markdown",
   "id": "81a980ac",
   "metadata": {
    "id": "81a980ac"
   },
   "source": [
    "Podemos consultar todas las declaraciones realizadas respecto al modelo antes de seguir con el proceso de entrenamiento:"
   ]
  },
  {
   "cell_type": "code",
   "execution_count": null,
   "id": "e080518f",
   "metadata": {
    "id": "e080518f",
    "outputId": "27c46f36-faee-4910-a426-0caed2afa489"
   },
   "outputs": [],
   "source": [
    "modelo_ks.summary()"
   ]
  },
  {
   "cell_type": "markdown",
   "id": "00f4ab72",
   "metadata": {
    "id": "00f4ab72"
   },
   "source": [
    "Después de especificar la estructura de la red y los ajustes del algoritmo de clasificación, procedemos a **ajustar el modelo** contra el conjunto de datos de entrenamiento **de forma iterativa** y considerando estos argumentos:  \n",
    "\n",
    "* ``epochs``: Número de **iteraciones** que se van a realizar para **recorrer todo el conjunto de training**.  \n",
    "\n",
    "* ``batch_size``: Número de muestras por actualización de gradiente o mejor dicho, la **cantidad de observaciones que se consideran antes de que se actualicen los pesos del modelo** dentro de cada _epoch_. Si no se especifica, el valor predeterminado de *batch_size* es __32__."
   ]
  },
  {
   "cell_type": "code",
   "execution_count": null,
   "id": "b06e4ac1",
   "metadata": {
    "id": "b06e4ac1",
    "outputId": "76ef80aa-78f9-4c8b-d362-4ef09f544a94"
   },
   "outputs": [],
   "source": [
    "# Ajustar el modelo a los datos del entrenamiento.\n",
    "modelo_ks.fit(X_train, y_train, epochs=10, batch_size=50)"
   ]
  },
  {
   "cell_type": "markdown",
   "id": "e7572d57",
   "metadata": {
    "id": "e7572d57"
   },
   "source": [
    "Ahora tenemos a nuestra red neronal **entrenada y ajustada** a los datos de entrenamiento. Podemos incluso consultar los parámetros o mejor dicho **los pesos de la red** \n",
    " mediante el atributo **`.weights`**:"
   ]
  },
  {
   "cell_type": "code",
   "execution_count": null,
   "id": "7f7b4ab4",
   "metadata": {
    "id": "7f7b4ab4",
    "outputId": "dc8485d9-411f-4b6e-b906-eeb56e7b8b08"
   },
   "outputs": [],
   "source": [
    "modelo_ks.weights"
   ]
  },
  {
   "cell_type": "markdown",
   "id": "cde1790a",
   "metadata": {
    "id": "cde1790a"
   },
   "source": [
    "Con el objetivo de evaluar el modelo, podemos **guardar la salida del paso de entrenamiento** para poder registrar las métricas evaluadas en cada _epoch_ y al mismo tiempo entrenar el modelo."
   ]
  },
  {
   "cell_type": "code",
   "execution_count": null,
   "id": "27177d03",
   "metadata": {
    "id": "27177d03",
    "outputId": "ecb3bbce-fcba-46f3-fd56-f703a15d771c"
   },
   "outputs": [],
   "source": [
    "registros = modelo_ks.fit(X_train, y_train, epochs=10, batch_size=50)"
   ]
  },
  {
   "cell_type": "code",
   "execution_count": null,
   "id": "654fa718",
   "metadata": {
    "id": "654fa718",
    "outputId": "7797a08e-a2d7-40fd-a898-827bc0f081b8"
   },
   "outputs": [],
   "source": [
    "# Consultar la info registrada\n",
    "print(registros.epoch)\n",
    "print(registros.history)"
   ]
  },
  {
   "cell_type": "code",
   "execution_count": null,
   "id": "58de0b26",
   "metadata": {
    "id": "58de0b26",
    "outputId": "a66c3889-694e-4ced-d7c0-f27574a81076"
   },
   "outputs": [],
   "source": [
    "# Graficamos el rendimiento durante el training\n",
    "plt.figure(figsize=(20,6))\n",
    "plt.plot(registros.epoch, registros.history['loss'], linewidth=3, label='training Log-Loss')\n",
    "plt.xticks(registros.epoch)\n",
    "plt.xlabel('epochs')\n",
    "plt.ylabel('Loss')\n",
    "plt.title('La evolución de error')\n",
    "plt.legend(loc = 'upper right')\n",
    "plt.show()"
   ]
  },
  {
   "cell_type": "code",
   "execution_count": null,
   "id": "b19929cd",
   "metadata": {
    "id": "b19929cd",
    "outputId": "5999091d-4b83-4da2-8c1f-5dacd506d741"
   },
   "outputs": [],
   "source": [
    "# Graficamos el rendimiento durante el training\n",
    "plt.figure(figsize=(20,6))\n",
    "plt.plot(registros.epoch, registros.history['accuracy'], linewidth=3, label='training Accuracy')\n",
    "plt.xticks(registros.epoch)\n",
    "plt.xlabel('epochs')\n",
    "plt.ylabel('Accuracy')\n",
    "plt.title('La evolución del porcentaje de acierto')\n",
    "plt.legend(loc = 'lower right')\n",
    "plt.show()"
   ]
  },
  {
   "cell_type": "markdown",
   "id": "5706680e",
   "metadata": {
    "id": "5706680e"
   },
   "source": [
    "Para los modelos desarrollados con _Keras_ podemos usar el método **`.evaluate`** para **evaluar directamente el rendimiento del modelo** sobre cualquier conjunto de datos sin sacar las predicciones explícitamente."
   ]
  },
  {
   "cell_type": "code",
   "execution_count": null,
   "id": "b6f855c1",
   "metadata": {
    "id": "b6f855c1",
    "outputId": "fd3674af-ee7d-45e3-d880-8b1ab28a501e"
   },
   "outputs": [],
   "source": [
    "modelo_ks.evaluate(X_train, y_train)"
   ]
  },
  {
   "cell_type": "code",
   "execution_count": null,
   "id": "4d7a7c2d",
   "metadata": {
    "id": "4d7a7c2d",
    "outputId": "0875a08a-836c-4877-c5cb-4bdfc1c90e01"
   },
   "outputs": [],
   "source": [
    "_, accuracy_ks_train = modelo_ks.evaluate(X_train, y_train, batch_size=50)\n",
    "print('Accuracy del modelo en trainig: %.3f' % accuracy_ks_train) \n",
    "\n",
    "# El operador % aquí es un \"string formatting operator\" que se usa para dar formato a una cadena reemplazando el carácter % con un valor.\n",
    "\n",
    "# El %.3f es un especificador de formato que le dice a Python que formatee el valor de \"accuracy_ks\" como un número de tipo \"float\" con 3 decimales."
   ]
  },
  {
   "cell_type": "code",
   "execution_count": null,
   "id": "e7396082",
   "metadata": {
    "id": "e7396082",
    "outputId": "8e4896af-e24b-4e7a-8fd8-6f4fc15c7cec"
   },
   "outputs": [],
   "source": [
    "print(_)"
   ]
  },
  {
   "cell_type": "code",
   "execution_count": null,
   "id": "2e45a2bd",
   "metadata": {
    "id": "2e45a2bd",
    "outputId": "dd90cb51-8e09-410d-be59-a9c29daa7264"
   },
   "outputs": [],
   "source": [
    "# Con este mismo método pòdemos sacar el rendimiento del modelo sobre el conjunto de datos de prueba (test)\n",
    "_, accuracy_ks_test = modelo_ks.evaluate(X_test, y_test, batch_size=50)\n",
    "print('Accuracy del modelo en test: %.3f' % accuracy_ks_test) "
   ]
  },
  {
   "cell_type": "markdown",
   "id": "fea0b6e5",
   "metadata": {
    "id": "fea0b6e5"
   },
   "source": [
    "Aquí también podemos generar las predicciones del modelo usando el método **`.predict`** sobre el modelo entrenado."
   ]
  },
  {
   "cell_type": "code",
   "execution_count": null,
   "id": "444ce397",
   "metadata": {
    "id": "444ce397",
    "outputId": "9a4b5b16-34ca-4039-dce0-69ca624628a7"
   },
   "outputs": [],
   "source": [
    "# lanzamos las predicciones (para el conjunto de test que son los datos no vistos por el algoritmo en la fase de modelización)\n",
    "y_pred_ks = modelo_ks.predict(X_test)\n",
    "y_pred_ks"
   ]
  },
  {
   "cell_type": "markdown",
   "id": "7b4193a8",
   "metadata": {
    "id": "7b4193a8"
   },
   "source": [
    "Analizamos la salida directa del modelo que al parecer es en forma de probabilidades que tiene cada observación para pertenecer a la clase 1."
   ]
  },
  {
   "cell_type": "code",
   "execution_count": null,
   "id": "caff4df9",
   "metadata": {
    "id": "caff4df9",
    "outputId": "e244ab20-700b-493b-81e2-50619e4da948"
   },
   "outputs": [],
   "source": [
    "pd.Series(y_pred_ks).describe()"
   ]
  },
  {
   "cell_type": "code",
   "execution_count": null,
   "id": "8ffa883c",
   "metadata": {
    "id": "8ffa883c",
    "outputId": "46cb56e5-af51-43a5-a2ab-824aed2a5164"
   },
   "outputs": [],
   "source": [
    "# La salida es un array bidimensional\n",
    "print(y_pred_ks.shape)\n",
    "print(y_pred_ks.ndim)"
   ]
  },
  {
   "cell_type": "code",
   "execution_count": null,
   "id": "1d43e533",
   "metadata": {
    "id": "1d43e533",
    "outputId": "5b57ca1c-25bf-46f5-b001-211bdc7aebb5"
   },
   "outputs": [],
   "source": [
    "# Redimensionar y reordenar el array\n",
    "y_pred_ks.reshape(-1)"
   ]
  },
  {
   "cell_type": "code",
   "execution_count": null,
   "id": "4835d3f0",
   "metadata": {
    "id": "4835d3f0",
    "outputId": "f2855415-3c7e-4fd1-a6ae-63de5ae9fb5c"
   },
   "outputs": [],
   "source": [
    "# Aplanar los valores del array \n",
    "y_pred_ks.flatten()"
   ]
  },
  {
   "cell_type": "code",
   "execution_count": null,
   "id": "515de851",
   "metadata": {
    "id": "515de851",
    "outputId": "a53bebdc-ba74-4eed-f76b-6881264ca28a"
   },
   "outputs": [],
   "source": [
    "# Consultar las características estadística de la salida\n",
    "pd.Series(y_pred_ks.flatten()).describe().round(4)"
   ]
  },
  {
   "cell_type": "code",
   "execution_count": null,
   "id": "40c16ad3",
   "metadata": {
    "id": "40c16ad3",
    "outputId": "d08ee43e-056a-4597-c25c-9a4845c4d55c"
   },
   "outputs": [],
   "source": [
    "# Consultar el histograma y analizar la distribución de las predicciones\n",
    "pd.Series(y_pred_ks.reshape(-1)).hist(bins=100, grid=False)"
   ]
  },
  {
   "cell_type": "markdown",
   "id": "af6bcbef",
   "metadata": {
    "id": "af6bcbef"
   },
   "source": [
    "Evidentemente para poder comparar los valores predichos con los reales debemos filtrar las predicciones, cortando las estimaciones por un umbrall (_threshold_)."
   ]
  },
  {
   "cell_type": "code",
   "execution_count": null,
   "id": "23697016",
   "metadata": {
    "id": "23697016",
    "outputId": "0535bcb8-5ce3-47ea-b977-a9a51a968476"
   },
   "outputs": [],
   "source": [
    "np.where(y_pred_ks<0.5, 0, 1)"
   ]
  },
  {
   "cell_type": "code",
   "execution_count": null,
   "id": "47ecdfd7",
   "metadata": {
    "id": "47ecdfd7",
    "outputId": "2d86b3c2-3872-4df6-a610-b8469be0ecd7"
   },
   "outputs": [],
   "source": [
    "threshold = 0.5\n",
    "y_pred_keras = np.where(y_pred_ks < threshold, 0, 1)\n",
    "y_pred_keras"
   ]
  },
  {
   "cell_type": "code",
   "execution_count": null,
   "id": "471acdd4",
   "metadata": {
    "id": "471acdd4",
    "outputId": "b229f3b8-3bff-4948-b9de-f3f2a35db7c6"
   },
   "outputs": [],
   "source": [
    "# Ahora calculamos las métricas del siempre con las funciones de sklearn\n",
    "print('Acuuracy:', accuracy_score(y_test, y_pred_keras))\n",
    "\n",
    "print(classification_report(y_test, y_pred_keras))\n",
    "\n",
    "print('AUC:', roc_auc_score(y_test, y_pred_keras))"
   ]
  },
  {
   "cell_type": "markdown",
   "id": "879a8e14",
   "metadata": {
    "id": "879a8e14"
   },
   "source": [
    "En función del umbrall que se considera para filtrar la salida cruda del modelo, las métricas del modelo pueden variar algo."
   ]
  },
  {
   "cell_type": "code",
   "execution_count": null,
   "id": "ac7bd619",
   "metadata": {
    "id": "ac7bd619",
    "outputId": "5c5bd7f1-02c0-4076-fdbd-d0fcdf7a34d5"
   },
   "outputs": [],
   "source": [
    "threshold = 0.75\n",
    "y_pred_keras = np.where(y_pred_ks < threshold, 0, 1)\n",
    "\n",
    "print('Acuuracy:', accuracy_score(y_test, y_pred_keras))\n",
    "\n",
    "print(classification_report(y_test, y_pred_keras))\n",
    "\n",
    "print('AUC:', roc_auc_score(y_test, y_pred_keras))"
   ]
  },
  {
   "cell_type": "markdown",
   "id": "26e3c01a",
   "metadata": {
    "id": "26e3c01a"
   },
   "source": [
    "El mejor valor de umbral **depende del caso de uso específico** y la compensación (_trade-off_) deseada entre la tasa de verdaderos positivos (TPR) y la tasa de falsos positivos (FPR).\n",
    "\n",
    "Una forma de encontrar el umbral óptimo para un modelo de clasificación binaria sería analizar la curva de características operativas del receptor (**ROC**). La curva ROC traza la tasa de verdaderos positivos contra la tasa de falsos positivos para un rango de valores de umbral, y **el umbral óptimo** corresponde al punto en la curva ROC que está **más cerca de la esquina superior izquierda** (es decir, el punto con el TPR más alto y el FPR más bajo)."
   ]
  },
  {
   "cell_type": "code",
   "execution_count": null,
   "id": "65f05636",
   "metadata": {
    "id": "65f05636",
    "outputId": "331f00b3-eb51-4357-ec4f-0fe3906a7691"
   },
   "outputs": [],
   "source": [
    "from sklearn.metrics import roc_curve\n",
    "fpr, tpr, thresholds = roc_curve(y_test, y_pred_ks)\n",
    "\n",
    "# Sacar el índice del umbral con el TPR más alto y el FPR más bajo\n",
    "indice_umbral = np.argmax(tpr - fpr)\n",
    "\n",
    "# Sacar el valor del mejor umbral\n",
    "umbral_opt = thresholds[indice_umbral]\n",
    "\n",
    "print(\"El mejor umbral sería: \", umbral_opt)\n"
   ]
  },
  {
   "cell_type": "code",
   "execution_count": null,
   "id": "8239d40c",
   "metadata": {
    "id": "8239d40c",
    "outputId": "e6e2051e-4b9b-4273-89f8-e1273b4849e6"
   },
   "outputs": [],
   "source": [
    "# Ahora volvemos a sacar las métricas usando el umbral \"óptimo\"\n",
    "threshold = umbral_opt\n",
    "\n",
    "y_pred_keras = np.where(y_pred_ks < threshold, 0, 1)\n",
    "\n",
    "print('Acuuracy:', accuracy_score(y_test, y_pred_keras))\n",
    "\n",
    "print(classification_report(y_test, y_pred_keras))\n",
    "\n",
    "print('AUC:', roc_auc_score(y_test, y_pred_keras))"
   ]
  },
  {
   "cell_type": "markdown",
   "id": "d5814d1c",
   "metadata": {
    "id": "d5814d1c"
   },
   "source": [
    "Podemos juntar todos los pasos implicados en el entrenamiento y validación del modelo."
   ]
  },
  {
   "cell_type": "code",
   "execution_count": null,
   "id": "de900b51",
   "metadata": {
    "id": "de900b51",
    "outputId": "fcf4ba45-c575-49f4-a9b8-e5896fa54378"
   },
   "outputs": [],
   "source": [
    "# importar los módulos, las clases y las funciones a utilizar\n",
    "import tensorflow as tf\n",
    "from keras.models import Sequential\n",
    "from keras import Input\n",
    "from keras.layers import Dense\n",
    "from sklearn.metrics import accuracy_score, classification_report, roc_curve, roc_auc_score\n",
    "\n",
    "# Declarar el modelo que se va a crear\n",
    "modelo_ks = Sequential()\n",
    "\n",
    "modelo_ks.add(Input(shape=(X_train.shape[1],)))\n",
    "modelo_ks.add(Dense(100, activation='relu'))\n",
    "modelo_ks.add(Dense(200, activation='relu'))\n",
    "modelo_ks.add(Dense(100, activation='relu'))\n",
    "modelo_ks.add(Dense(1, activation='sigmoid'))\n",
    "\n",
    "# Compilar e indicar los ajustes del modelo\n",
    "modelo_ks.compile(loss='binary_crossentropy', optimizer='Adam', metrics=['accuracy', 'AUC'])\n",
    "\n",
    "# Consultar el resumen del modelo definido\n",
    "modelo_ks.summary()\n",
    "\n",
    "# Ajustar el modelo a los datos del entrenamiento.\n",
    "registros = modelo_ks.fit(X_train, y_train, epochs=10, batch_size=50)\n",
    "\n",
    "# lanzamos las predicciones para el conjunto de test \n",
    "y_pred_ks = modelo_ks.predict(X_test)\n",
    "\n",
    "# Sacar el índice del umbral con el TPR más alto y el FPR más bajo\n",
    "fpr, tpr, thresholds = roc_curve(y_test, y_pred_ks)\n",
    "indice_umbral = np.argmax(tpr - fpr)\n",
    "\n",
    "# Sacar el valor del mejor umbral\n",
    "umbral_opt = thresholds[indice_umbral]\n",
    "print(\"El mejor umbral sería: \", umbral_opt)\n",
    "\n",
    "# Filtrar las predicciones \n",
    "y_pred_keras = np.where(y_pred_ks < umbral_opt, 0, 1)\n",
    "\n",
    "print('Acuuracy:', accuracy_score(y_test, y_pred_keras))\n",
    "\n",
    "print(classification_report(y_test, y_pred_keras))\n",
    "\n",
    "print('AUC:', roc_auc_score(y_test, y_pred_keras))"
   ]
  },
  {
   "cell_type": "markdown",
   "id": "1738ab22",
   "metadata": {
    "id": "1738ab22"
   },
   "source": [
    "Se puede observar que los resultados generados se pueden variar un poco en cada ejecución. Para tener una cierta __reproducibilidad__ en estos análisis podemos **fijar la semilla de diferentes procesos y cálculos estocásticos** a distintos niveles que utilizan varios algoritmos durante el proceso de entrenamiento:\n",
    "\n",
    "- A nivel de procesos en __`python`__:   Ajustar el generador aleatorio `random` en un valor fijo.\n",
    "- A nivel de procesos en __`numpy`__:   Ajustar el generador aleatorio `np.random` en un valor fijo.\n",
    "- A nivel de procesos en __`tensorflow`__:   Ajustar el generador aleatorio `tf.random` en un valor fijo.\n"
   ]
  },
  {
   "cell_type": "code",
   "execution_count": null,
   "id": "90aee6fc",
   "metadata": {
    "id": "90aee6fc",
    "outputId": "e5ae6b2f-3ffe-46ef-91c9-738461e3d746"
   },
   "outputs": [],
   "source": [
    "# importar los módulos, las clases y las funciones a utilizar\n",
    "import random\n",
    "import tensorflow as tf\n",
    "from keras.models import Sequential\n",
    "from keras import Input\n",
    "from keras.layers import Dense\n",
    "from sklearn.metrics import accuracy_score, classification_report, roc_curve, roc_auc_score\n",
    "\n",
    "# Fijar la semilla para conseguir la reproducibilidad de los resultados\n",
    "semilla = 333\n",
    "random.seed(semilla)   # Fijar la semilla a nivel de `python`\n",
    "np.random.seed(semilla)  # Fijar la semilla a nivel de `numpy`  \n",
    "tf.random.set_seed(semilla)  # Fijar la semilla a nivel de `tensorflow`\n",
    "\n",
    "\n",
    "# Declarar el modelo que se va a crear\n",
    "modelo_ks = Sequential()\n",
    "\n",
    "modelo_ks.add(Input(shape=(X_train.shape[1],)))\n",
    "modelo_ks.add(Dense(100, activation='relu'))\n",
    "modelo_ks.add(Dense(200, activation='relu'))\n",
    "modelo_ks.add(Dense(100, activation='relu'))\n",
    "modelo_ks.add(Dense(1, activation='sigmoid'))\n",
    "\n",
    "# Compilar e indicar los ajustes del modelo\n",
    "modelo_ks.compile(loss='binary_crossentropy', optimizer='Adam', metrics=['accuracy', 'AUC'])\n",
    "\n",
    "# Consultar el resumen del modelo definido\n",
    "modelo_ks.summary()\n",
    "\n",
    "# Ajustar el modelo a los datos del entrenamiento.\n",
    "registros = modelo_ks.fit(X_train, y_train, epochs=50, batch_size=100)\n",
    "\n",
    "# Calcular las predicciones para el conjunto de test \n",
    "y_pred_ks = modelo_ks.predict(X_test)\n",
    "\n",
    "# Sacar el índice del umbral con el TPR más alto y el FPR más bajo\n",
    "fpr, tpr, thresholds = roc_curve(y_test, y_pred_ks)\n",
    "indice_umbral = np.argmax(tpr - fpr)\n",
    "# Sacar el valor del mejor umbral\n",
    "umbral_opt = thresholds[indice_umbral]\n",
    "print(\"El mejor umbral sería: \", umbral_opt)\n",
    "\n",
    "# Filtrar las predicciones \n",
    "y_pred_keras = np.where(y_pred_ks < umbral_opt, 0, 1)\n",
    "print('Acuuracy:', accuracy_score(y_test, y_pred_keras))\n",
    "print(classification_report(y_test, y_pred_keras))\n",
    "print('AUC:', roc_auc_score(y_test, y_pred_keras))"
   ]
  },
  {
   "cell_type": "markdown",
   "id": "b7675f6c",
   "metadata": {
    "id": "b7675f6c"
   },
   "source": [
    "Cuando tengamos un númeo mayor de _epochs_ tendrémos una mejor representación en las gráficas de _Loss_ y las métricas del modelo. "
   ]
  },
  {
   "cell_type": "code",
   "execution_count": null,
   "id": "68bc3a1c",
   "metadata": {
    "id": "68bc3a1c",
    "outputId": "8d311f3b-2371-4468-9c13-f0b7f8de9180"
   },
   "outputs": [],
   "source": [
    "# Graficamos el rendimiento durante el training\n",
    "plt.figure(figsize=(20,6))\n",
    "plt.plot(registros.epoch, registros.history['loss'], linewidth=3, label='training Log-Loss')\n",
    "plt.xticks(registros.epoch)\n",
    "plt.xlabel('epochs')\n",
    "plt.ylabel('Loss')\n",
    "plt.title('La evolución de error')\n",
    "plt.legend(loc = 'upper right')\n",
    "plt.show()"
   ]
  },
  {
   "cell_type": "markdown",
   "id": "2f5a827a",
   "metadata": {
    "id": "2f5a827a"
   },
   "source": [
    "El método de **`.fit`** nos permite pasar un conjunto de _validación_, a parte de los datos de _training_, con el objetivo de reservar una parte de los datos y registrar en cada _epoch_ el rendimiento del modelo en los dos conjuntos de datos. "
   ]
  },
  {
   "cell_type": "code",
   "execution_count": null,
   "id": "94e872a3",
   "metadata": {
    "id": "94e872a3",
    "outputId": "57df26bc-4170-4206-aaf8-3d1c94ba0743"
   },
   "outputs": [],
   "source": [
    "# importar los módulos, las clases y las funciones a utilizar\n",
    "import random\n",
    "import tensorflow as tf\n",
    "from keras.models import Sequential\n",
    "from keras import Input\n",
    "from keras.layers import Dense\n",
    "from sklearn.metrics import accuracy_score, classification_report, roc_curve, roc_auc_score\n",
    "from keras.backend import clear_session\n",
    "\n",
    "# Resetear el estado global de keras\n",
    "clear_session()\n",
    "\n",
    "# Fijar la semilla para conseguir la reproducibilidad de los resultados\n",
    "semilla = 333\n",
    "random.seed(semilla)   # Fijar la semilla a nivel de `python`\n",
    "np.random.seed(semilla)  # Fijar la semilla a nivel de `numpy`  \n",
    "tf.random.set_seed(semilla)  # Fijar la semilla a nivel de `tensorflow`\n",
    "\n",
    "# Declarar el modelo que se va a crear\n",
    "modelo_ks = Sequential()\n",
    "modelo_ks.add(Input(shape=(X_train.shape[1],)))\n",
    "modelo_ks.add(Dense(100, activation='relu'))\n",
    "modelo_ks.add(Dense(200, activation='relu'))\n",
    "modelo_ks.add(Dense(100, activation='relu'))\n",
    "modelo_ks.add(Dense(1, activation='sigmoid'))\n",
    "\n",
    "# Compilar e indicar los ajustes del modelo\n",
    "modelo_ks.compile(loss='binary_crossentropy', optimizer='Adam', metrics=['accuracy', 'AUC'])\n",
    "\n",
    "# Consultar el resumen del modelo definido\n",
    "modelo_ks.summary()\n",
    "\n",
    "# Ajustar el modelo a los datos del entrenamiento.\n",
    "registros = modelo_ks.fit(X_train, y_train, validation_data=(X_test, y_test), epochs=50, batch_size=100)\n",
    "\n",
    "# Calcular las predicciones para el conjunto de test \n",
    "y_pred_ks = modelo_ks.predict(X_test)\n",
    "\n",
    "# Calcular el mejor umbral\n",
    "fpr, tpr, thresholds = roc_curve(y_test, y_pred_ks)\n",
    "indice_umbral = np.argmax(tpr - fpr)\n",
    "umbral_opt = thresholds[indice_umbral]\n",
    "print(\"El mejor umbral sería: \", umbral_opt)\n",
    "\n",
    "# Filtrar las predicciones  y evaluar el modelo\n",
    "y_pred_keras = np.where(y_pred_ks < umbral_opt, 0, 1)\n",
    "print('Acuuracy:', accuracy_score(y_test, y_pred_keras))\n",
    "print(classification_report(y_test, y_pred_keras))\n",
    "print('AUC:', roc_auc_score(y_test, y_pred_keras))\n",
    "\n"
   ]
  },
  {
   "cell_type": "code",
   "execution_count": null,
   "id": "7739893a",
   "metadata": {
    "id": "7739893a",
    "outputId": "2cf3abda-0580-4034-c065-43f00a698ed5"
   },
   "outputs": [],
   "source": [
    "# Graficamos el rendimiento para el training y test\n",
    "plt.figure(figsize=(20,6))\n",
    "plt.plot(registros.epoch, registros.history['loss'], linewidth=3, label='training Log-Loss')\n",
    "plt.plot(registros.epoch, registros.history['val_loss'], linewidth=3, label='test Log-Loss')\n",
    "plt.xticks(registros.epoch)\n",
    "plt.xlabel('epochs')\n",
    "plt.ylabel('Loss')\n",
    "plt.title('La evolución de error')\n",
    "plt.legend(loc = 'upper right')\n",
    "plt.show()"
   ]
  },
  {
   "cell_type": "code",
   "execution_count": null,
   "id": "483bee30",
   "metadata": {
    "id": "483bee30",
    "outputId": "20e14efe-fa9c-4090-9bdf-f82c08d5f7dd"
   },
   "outputs": [],
   "source": [
    "# Graficamos el rendimiento para el training y test\n",
    "plt.figure(figsize=(20,6))\n",
    "plt.plot(registros.epoch, registros.history['accuracy'], linewidth=3, label='training Accuracy')\n",
    "plt.plot(registros.epoch, registros.history['val_accuracy'], linewidth=3, label='test Accuracy')\n",
    "plt.xticks(registros.epoch)\n",
    "plt.xlabel('epochs')\n",
    "plt.ylabel('Accuracy')\n",
    "plt.title('La evolución del porcentaje de acierto')\n",
    "plt.legend(loc = 'lower right')\n",
    "plt.show()"
   ]
  },
  {
   "cell_type": "code",
   "execution_count": null,
   "id": "7d822025",
   "metadata": {
    "id": "7d822025",
    "outputId": "7e2c5317-d1e0-4591-c2a6-8a729dfe6076"
   },
   "outputs": [],
   "source": [
    "# Graficamos el rendimiento para el training y test\n",
    "plt.figure(figsize=(20,6))\n",
    "plt.plot(registros.epoch, registros.history['auc'], linewidth=3, label='training AUC')\n",
    "plt.plot(registros.epoch, registros.history['val_auc'], linewidth=3, label='test AUC')\n",
    "plt.xticks(registros.epoch)\n",
    "plt.xlabel('epochs')\n",
    "plt.ylabel('AUC')\n",
    "plt.title('La evolución del área debajo del la curva ROC')\n",
    "plt.legend(loc = 'lower right')\n",
    "plt.show()"
   ]
  },
  {
   "cell_type": "markdown",
   "id": "16442d46",
   "metadata": {
    "id": "16442d46"
   },
   "source": [
    "Volvemos a juntar todos los pasos de generación y evaluación del modelo, silenciando el proceso de ajuste de la red indicando **`verbose=0`**"
   ]
  },
  {
   "cell_type": "code",
   "execution_count": null,
   "id": "5aced3ed",
   "metadata": {
    "id": "5aced3ed",
    "outputId": "6628ef71-a3a9-41df-fb4d-e02e67ef8cc4"
   },
   "outputs": [],
   "source": [
    "# importar los módulos, las clases y las funciones a utilizar\n",
    "import random\n",
    "import tensorflow as tf\n",
    "from keras.models import Sequential\n",
    "from keras import Input\n",
    "from keras.layers import Dense\n",
    "from sklearn.metrics import accuracy_score, classification_report, roc_curve, roc_auc_score\n",
    "from keras.backend import clear_session\n",
    "\n",
    "# Resetear el estado global de keras\n",
    "clear_session()\n",
    "\n",
    "# Fijar la semilla para conseguir la reproducibilidad de los resultados\n",
    "semilla = 333\n",
    "random.seed(semilla)   # Fijar la semilla a nivel de `python`\n",
    "np.random.seed(semilla)  # Fijar la semilla a nivel de `numpy`  \n",
    "tf.random.set_seed(semilla)  # Fijar la semilla a nivel de `tensorflow`\n",
    "\n",
    "# Declarar el modelo que se va a crear\n",
    "modelo_ks = Sequential()\n",
    "modelo_ks.add(Input(shape=(X_train.shape[1],)))\n",
    "modelo_ks.add(Dense(100, activation='relu'))\n",
    "modelo_ks.add(Dense(200, activation='relu'))\n",
    "modelo_ks.add(Dense(100, activation='relu'))\n",
    "modelo_ks.add(Dense(1, activation='sigmoid'))\n",
    "\n",
    "# Compilar e indicar los ajustes del modelo\n",
    "modelo_ks.compile(loss='binary_crossentropy', optimizer='Adam', metrics=['accuracy', 'AUC'])\n",
    "\n",
    "# Consultar el resumen del modelo definido\n",
    "modelo_ks.summary()\n",
    "\n",
    "# Ajustar el modelo a los datos del entrenamiento.\n",
    "registros = modelo_ks.fit(X_train, y_train, validation_data=(X_test, y_test), epochs=30, batch_size=100, verbose=0)\n",
    "\n",
    "# Calcular las predicciones para el conjunto de test \n",
    "y_pred_ks = modelo_ks.predict(X_test)\n",
    "\n",
    "# Calcular el mejor umbral\n",
    "fpr, tpr, thresholds = roc_curve(y_test, y_pred_ks)\n",
    "indice_umbral = np.argmax(tpr - fpr)\n",
    "umbral_opt = thresholds[indice_umbral]\n",
    "print(\"El mejor umbral sería: \", umbral_opt)\n",
    "\n",
    "# Filtrar las predicciones  y evaluar el modelo\n",
    "y_pred_keras = np.where(y_pred_ks < umbral_opt, 0, 1)\n",
    "print('Acuuracy:', accuracy_score(y_test, y_pred_keras))\n",
    "print(classification_report(y_test, y_pred_keras))\n",
    "print('AUC:', roc_auc_score(y_test, y_pred_keras))\n",
    "\n",
    "# Graficamos la evolución de error (Logic Loss)\n",
    "plt.figure(figsize=(20,6))\n",
    "plt.plot(registros.epoch, registros.history['loss'], linewidth=3, label='training Log-Loss')\n",
    "plt.plot(registros.epoch, registros.history['val_loss'], linewidth=3, label='test Log-Loss')\n",
    "plt.xticks(registros.epoch)\n",
    "plt.xlabel('epochs')\n",
    "plt.ylabel('Loss')\n",
    "plt.title('La evolución de error')\n",
    "plt.legend(loc = 'upper right')\n",
    "plt.show()\n",
    "\n",
    "# Graficamos la evolución del porcentaje de acierto (Accuracy)\n",
    "plt.figure(figsize=(20,6))\n",
    "plt.plot(registros.epoch, registros.history['accuracy'], linewidth=3, label='training Accuracy')\n",
    "plt.plot(registros.epoch, registros.history['val_accuracy'], linewidth=3, label='test Accuracy')\n",
    "plt.xticks(registros.epoch)\n",
    "plt.xlabel('epochs')\n",
    "plt.ylabel('Accuracy')\n",
    "plt.title('La evolución del porcentaje de acierto')\n",
    "plt.legend(loc = 'lower right')\n",
    "plt.show()\n",
    "\n",
    "# Graficamos la evolución del área debajo del la curva ROC\n",
    "plt.figure(figsize=(20,6))\n",
    "plt.plot(registros.epoch, registros.history['auc'], linewidth=3, label='training AUC')\n",
    "plt.plot(registros.epoch, registros.history['val_auc'], linewidth=3, label='test AUC')\n",
    "plt.xticks(registros.epoch)\n",
    "plt.xlabel('epochs')\n",
    "plt.ylabel('AUC')\n",
    "plt.title('La evolución del área debajo del la curva ROC')\n",
    "plt.legend(loc = 'lower right')\n",
    "plt.show()\n"
   ]
  },
  {
   "cell_type": "markdown",
   "id": "0e9de3ec",
   "metadata": {
    "id": "0e9de3ec"
   },
   "source": [
    "---"
   ]
  },
  {
   "cell_type": "markdown",
   "id": "ad08a016",
   "metadata": {
    "id": "ad08a016"
   },
   "source": [
    "### **`Ejercicio 16.1`**\n",
    "\n",
    "Saca la gráfica del **Learning Curve** con la estructura del último modelo analizado en la sesión, definiendo y aplicando una función nueva considerando los siguientes puntos. Explica si este último modelo tiene un buen rendimiento comparando con modelos anteriores:\n",
    "- La función toma solamente una entrada para el hiperparámetro `epochs`. Dibuja diferentes curvas para distintos números de iteraciones (_`epochs`_: `{10, 30, 50}`)\n",
    "- La curva muestra la evolución de `Accuracy` tanto para el conjunto de _training_ como para el dataset de _test_\n",
    "- `semilla = 333`\n",
    "- Filtra los resultados de cada modelo sin buscar el umbral óptimo (`umbral = 0.5`)\n",
    "- (*Sugerencia*: No incluyas más de `15` puntos en el eje horizontal y empieza la gráfica con un mínimo de _100_ muestras para los modelos que se van a ajustar)"
   ]
  },
  {
   "cell_type": "code",
   "execution_count": null,
   "id": "3093b80f",
   "metadata": {
    "id": "3093b80f"
   },
   "outputs": [],
   "source": [
    "# Solución\n",
    "# Ejercicio 16.1\n",
    "def generate_learning_curve_keras(Epochs=1):\n",
    "    from sklearn.svm import SVC\n",
    "    modelo_svc = SVC()\n",
    "\n",
    "# Crear un listado de los tamaños de subconjuntos de datos de entrenamiento\n",
    "    num_samples = np.linspace(100,X_train.shape[0],4).astype(int)\n",
    "\n",
    "    # Generamos previamente los vectores necesarios para ir calculando y guardando el rendimiento\n",
    "    train_score = np.zeros(num_samples.size) \n",
    "    test_score = np.zeros(num_samples.size)\n",
    "\n",
    "\n",
    "    for i in range(num_samples.size):\n",
    "        # Generamos un modelo para cada subconjunto de datos de entrenamiento y lo ajustamos  \n",
    "        modelo_svc.fit(X_train[:num_samples[i]], y_train[:num_samples[i]])\n",
    "\n",
    "        # Calculamos el área bajo la curva de funcionamiento del receptor sobre datos de train y de test\n",
    "        train_score[i] = accuracy_score(y_train[:num_samples[i]], modelo_svc.predict(X_train[:num_samples[i]])) \n",
    "        test_score[i] = accuracy_score(y_test, modelo_svc.predict(X_test))\n",
    "\n",
    "    print(\"La diferencia final del rendimiento del modelo entre training y test es= \", train_score[-1]-test_score[-1])\n",
    "\n",
    "    # Graficamos el rendimiento de training versus de test\n",
    "    plt.plot(num_samples, test_score, label = 'Test Accuracy')\n",
    "    plt.plot(num_samples, train_score, label = 'Train Accuracy')\n",
    "    plt.title('Curva de aprendizaje (Learning Curve) para el modelo_svc')\n",
    "    plt.xlabel('Tamaño de entrenamiento (Training size)')\n",
    "    plt.ylabel('Accuracy')\n",
    "    plt.legend(loc = 'lower right') "
   ]
  },
  {
   "cell_type": "code",
   "execution_count": null,
   "id": "54ab4c6d-b39f-4739-8452-e16496d95c80",
   "metadata": {},
   "outputs": [],
   "source": [
    "generate_learning_curve_keras()"
   ]
  },
  {
   "cell_type": "markdown",
   "id": "9bb08506",
   "metadata": {
    "id": "9bb08506"
   },
   "source": [
    "---"
   ]
  },
  {
   "cell_type": "markdown",
   "id": "c0fa740d",
   "metadata": {
    "id": "c0fa740d"
   },
   "source": [
    "### **`Ejercicio 16.2`**\n",
    "\n",
    "**`16.2.1`** Saca la gráfica de **Complexity Curve** con la estructura del último modelo analizado en la sesión, considerando los siguientes puntos. Analiza la curva y explica qué valor sería mejor según este análisis para el número de las iteraciones:\n",
    "- Considera un rango para asignar al único hiperparámetro que se va a analizar en esta gráfica (número de iteraciones), usando funciones de `numpy`\n",
    "- `epochs`: `{10,  20,  30,  40,  50,  60,  70,  80,  90, 100}`\n",
    "- La curva muestra la evolución de `Accuracy` tanto para el conjunto de _training_ como para el dataset de _test_\n",
    "- `semilla = 333`\n",
    "- Filtra los resultados de cada modelo sin buscar el umbral óptimo (`umbral = 0.5`)\n",
    "- (*Sugerencia*: No incluyas más de `15` puntos en el eje horizontal y empieza la gráfica con un mínimo de _100_ muestras para los modelos que se van a ajustar)\n",
    "\n",
    "\n",
    "**`16.2.2`** Saca la gráfica de *Complexity Curve* al igual que el punto anterior, **excepto la métrica de clasificación**, considerando el siguiente punto y analiza y compara con los resultados con el ejercicio `16.2.1`.\n",
    "- La curva muestra la evolución de `AUC` tanto para el conjunto de _training_ como para el dataset de _test_\n"
   ]
  },
  {
   "cell_type": "code",
   "execution_count": null,
   "id": "3e2cf173",
   "metadata": {
    "id": "3e2cf173"
   },
   "outputs": [],
   "source": [
    "# Solución\n",
    "# Ejercicio 16.2.1\n",
    "# importar los módulos, las clases y las funciones a utilizar\n",
    "import random\n",
    "import tensorflow as tf\n",
    "from keras.models import Sequential\n",
    "from keras import Input\n",
    "from keras.layers import Dense\n",
    "from sklearn.metrics import accuracy_score, classification_report, roc_curve, roc_auc_score\n",
    "from keras.backend import clear_session\n",
    "\n",
    "def generate_complexity_curve1(Epochs=1):\n",
    "    # Resetear el estado global de keras\n",
    "    clear_session()\n",
    "\n",
    "    # Fijar la semilla para conseguir la reproducibilidad de los resultados\n",
    "    semilla = 333\n",
    "    random.seed(semilla)   # Fijar la semilla a nivel de `python`\n",
    "    np.random.seed(semilla)  # Fijar la semilla a nivel de `numpy`  \n",
    "    tf.random.set_seed(semilla)  # Fijar la semilla a nivel de `tensorflow`\n",
    "\n",
    "    # Declarar el modelo que se va a crear\n",
    "    modelo_ks = Sequential()\n",
    "    modelo_ks.add(Input(shape=(X_train.shape[1],)))\n",
    "    modelo_ks.add(Dense(100, activation='relu'))\n",
    "    modelo_ks.add(Dense(200, activation='relu'))\n",
    "    modelo_ks.add(Dense(100, activation='relu'))\n",
    "    modelo_ks.add(Dense(1, activation='sigmoid'))\n",
    "\n",
    "    # Compilar e indicar los ajustes del modelo\n",
    "    modelo_ks.compile(loss='binary_crossentropy', optimizer='Adam', metrics=['accuracy', 'AUC'])\n",
    "\n",
    "    # Consultar el resumen del modelo definido\n",
    "    modelo_ks.summary()\n",
    "\n",
    "    # Ajustar el modelo a los datos del entrenamiento.\n",
    "    registros = modelo_ks.fit(X_train, y_train, validation_data=(X_test, y_test), epochs=Epochs, batch_size=100, verbose=0)\n",
    "\n",
    "    #Nos dan el umbral\n",
    "    umbral_opt=0.5\n",
    "\n",
    "    print('Curva de complejidad con Epochs: ',Epochs)\n",
    "    # Graficamos la evolución del porcentaje de acierto (Accuracy)\n",
    "    plt.figure(figsize=(20,6))\n",
    "    plt.plot(registros.epoch, registros.history['accuracy'], linewidth=3, label='training Accuracy')\n",
    "    plt.plot(registros.epoch, registros.history['val_accuracy'], linewidth=3, label='test Accuracy')\n",
    "    plt.xticks(registros.epoch)\n",
    "    plt.xlabel('epochs')\n",
    "    plt.ylabel('Accuracy')\n",
    "    plt.title('La evolución del porcentaje de acierto')\n",
    "    plt.legend(loc = 'lower right')\n",
    "    plt.show()"
   ]
  },
  {
   "cell_type": "code",
   "execution_count": null,
   "id": "3d841d00-ffeb-49ac-b382-82c15c0bfffb",
   "metadata": {},
   "outputs": [],
   "source": [
    "epochs= [10,  20,  30,  40,  50,  60,  70,  80,  90, 100]\n",
    "for epoch in epochs:\n",
    "    generate_complexity_curve1(Epochs=epoch)"
   ]
  },
  {
   "cell_type": "code",
   "execution_count": null,
   "id": "655ea422",
   "metadata": {
    "id": "655ea422"
   },
   "outputs": [],
   "source": [
    "# Solución\n",
    "# Ejercicio 16.2.2\n",
    "# Solución\n",
    "# Ejercicio 16.2.1\n",
    "# importar los módulos, las clases y las funciones a utilizar\n",
    "import random\n",
    "import tensorflow as tf\n",
    "from keras.models import Sequential\n",
    "from keras import Input\n",
    "from keras.layers import Dense\n",
    "from sklearn.metrics import accuracy_score, classification_report, roc_curve, roc_auc_score\n",
    "from keras.backend import clear_session\n",
    "\n",
    "def generate_complexity_curve2(Epochs=1):\n",
    "    # Resetear el estado global de keras\n",
    "    clear_session()\n",
    "\n",
    "    # Fijar la semilla para conseguir la reproducibilidad de los resultados\n",
    "    semilla = 333\n",
    "    random.seed(semilla)   # Fijar la semilla a nivel de `python`\n",
    "    np.random.seed(semilla)  # Fijar la semilla a nivel de `numpy`  \n",
    "    tf.random.set_seed(semilla)  # Fijar la semilla a nivel de `tensorflow`\n",
    "\n",
    "    # Declarar el modelo que se va a crear\n",
    "    modelo_ks = Sequential()\n",
    "    modelo_ks.add(Input(shape=(X_train.shape[1],)))\n",
    "    modelo_ks.add(Dense(100, activation='relu'))\n",
    "    modelo_ks.add(Dense(200, activation='relu'))\n",
    "    modelo_ks.add(Dense(100, activation='relu'))\n",
    "    modelo_ks.add(Dense(1, activation='sigmoid'))\n",
    "\n",
    "    # Compilar e indicar los ajustes del modelo\n",
    "    modelo_ks.compile(loss='binary_crossentropy', optimizer='Adam', metrics=['accuracy', 'AUC'])\n",
    "\n",
    "    # Ajustar el modelo a los datos del entrenamiento.\n",
    "    registros = modelo_ks.fit(X_train, y_train, validation_data=(X_test, y_test), epochs=Epochs, batch_size=100, verbose=0)\n",
    "\n",
    "    #Nos dan el umbral\n",
    "    umbral_opt=0.5\n",
    "\n",
    "    print('Metricas de clasificación con Epochs: ',Epochs)\n",
    "    # Graficamos la evolución del porcentaje de acierto (Accuracy)\n",
    "    plt.figure(figsize=(20,6))\n",
    "    plt.plot(registros.epoch, registros.history['auc'], linewidth=3, label='training AUC')\n",
    "    plt.plot(registros.epoch, registros.history['val_auc'], linewidth=3, label='test AUC')\n",
    "    plt.xticks(registros.epoch)\n",
    "    plt.xlabel('epochs')\n",
    "    plt.ylabel('Accuracy')\n",
    "    plt.title('La evolución del porcentaje de acierto')\n",
    "    plt.legend(loc = 'lower right')\n",
    "    plt.show()"
   ]
  },
  {
   "cell_type": "code",
   "execution_count": null,
   "id": "73b302d4-ef37-4fbb-808e-b19fa8e05905",
   "metadata": {},
   "outputs": [],
   "source": [
    "epochs= [10,  20,  30,  40,  50,  60,  70,  80,  90, 100]\n",
    "for epoch in epochs:\n",
    "    generate_complexity_curve2(epoch)"
   ]
  }
 ],
 "metadata": {
  "colab": {
   "provenance": []
  },
  "kernelspec": {
   "display_name": "Python 3 (ipykernel)",
   "language": "python",
   "name": "python3"
  },
  "language_info": {
   "codemirror_mode": {
    "name": "ipython",
    "version": 3
   },
   "file_extension": ".py",
   "mimetype": "text/x-python",
   "name": "python",
   "nbconvert_exporter": "python",
   "pygments_lexer": "ipython3",
   "version": "3.9.13"
  },
  "vscode": {
   "interpreter": {
    "hash": "fd755ef5c364b0937fa7f305ca71365387f816473e8af8795860aa053b94a5ad"
   }
  }
 },
 "nbformat": 4,
 "nbformat_minor": 5
}
